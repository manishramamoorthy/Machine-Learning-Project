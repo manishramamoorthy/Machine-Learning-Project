{
  "nbformat": 4,
  "nbformat_minor": 0,
  "metadata": {
    "colab": {
      "provenance": [],
      "authorship_tag": "ABX9TyPRKdTNif2UIiSHEe9fFD3p",
      "include_colab_link": true
    },
    "kernelspec": {
      "name": "python3",
      "display_name": "Python 3"
    },
    "language_info": {
      "name": "python"
    }
  },
  "cells": [
    {
      "cell_type": "markdown",
      "metadata": {
        "id": "view-in-github",
        "colab_type": "text"
      },
      "source": [
        "<a href=\"https://colab.research.google.com/github/manishramamoorthy/Machine-Learning-Project/blob/main/2)_Car_Price_Prediction.ipynb\" target=\"_parent\"><img src=\"https://colab.research.google.com/assets/colab-badge.svg\" alt=\"Open In Colab\"/></a>"
      ]
    },
    {
      "cell_type": "code",
      "execution_count": null,
      "metadata": {
        "id": "q-Bd-koIXYfZ"
      },
      "outputs": [],
      "source": []
    },
    {
      "cell_type": "markdown",
      "source": [
        "# **Summary of Car Price Pridiction :**"
      ],
      "metadata": {
        "id": "YQ3bV1QVIrJi"
      }
    },
    {
      "cell_type": "markdown",
      "source": [
        "Car Price Prediction is **Supervised Learning**.Car Price Prediction **Regression Problem**. The Vision of Car Price Prediction is **a Evaluate Car Selling Price**."
      ],
      "metadata": {
        "id": "5zNgkLbBItKG"
      }
    },
    {
      "cell_type": "markdown",
      "source": [
        "## **Content of car Price Prediction :**"
      ],
      "metadata": {
        "id": "8oWOHhUxX2cb"
      }
    },
    {
      "cell_type": "markdown",
      "source": [
        "1) Importing Libraries              \n",
        "2) Load a Dataset            \n",
        "3) Data Preprocessing\n",
        "\n",
        "    -> 1) Top Five Rows of Dataset        \n",
        "    -> 2) Last Five Rows of Dataset       \n",
        "    -> 3) Shape of Dataset            \n",
        "    -> 4) Data Types             \n",
        "    -> 5) Information of Dataset          \n",
        "    -> 6) Checking Missing Values of Dataset      \n",
        "    -> 7) Droping Duplicates Values of Dataset      \n",
        "    -> 8) Droping Unnecessary Columns           \n",
        "    -> 9) Label Encoding                \n",
        "4) EDA(Exploratory Data Analysis) \n",
        "\n",
        "    -> 1) Statistical Measures                 \n",
        "    -> 2) Data Visualization  \n",
        "5) Train and Test Split           \n",
        "6) Feature Scaling             \n",
        "7) Build a Model\n",
        "\n",
        "    -> 1) Linear Regression       \n",
        "    -> 2) Lasso Regression        \n",
        "    -> 3) Ridge Regression        \n",
        "8) Making Prediction           \n",
        "9) Compare Actual Value and Predicted Values           \n",
        "10) Evaluation Metrics                    "
      ],
      "metadata": {
        "id": "B3H93-DeDUpP"
      }
    },
    {
      "cell_type": "markdown",
      "source": [
        "# **1) Importing Libraries :**"
      ],
      "metadata": {
        "id": "_Nws3gXGX8oJ"
      }
    },
    {
      "cell_type": "code",
      "source": [
        "import pandas as pd\n",
        "import numpy as np\n",
        "import warnings\n",
        "warnings.filterwarnings(\"ignore\")\n",
        "import matplotlib.pyplot as plt\n",
        "import seaborn as sns\n",
        "from sklearn.preprocessing import LabelEncoder\n",
        "from sklearn.model_selection import train_test_split\n",
        "from sklearn.preprocessing import StandardScaler\n",
        "from sklearn.linear_model import LinearRegression\n",
        "from sklearn.linear_model import Lasso\n",
        "from sklearn.linear_model import Ridge\n",
        "from sklearn import metrics"
      ],
      "metadata": {
        "id": "gNU6vLnhX8Bu"
      },
      "execution_count": 1,
      "outputs": []
    },
    {
      "cell_type": "markdown",
      "source": [
        "# **2) Load a Dataset :**"
      ],
      "metadata": {
        "id": "KPU3tgU_ZgV5"
      }
    },
    {
      "cell_type": "code",
      "source": [
        "data = pd.read_csv(\"/content/car+data.csv\")"
      ],
      "metadata": {
        "id": "_s-lJIwgYml6"
      },
      "execution_count": 2,
      "outputs": []
    },
    {
      "cell_type": "markdown",
      "source": [
        "# **3) Data Preprocessing :**"
      ],
      "metadata": {
        "id": "hep6mWKQaXfB"
      }
    },
    {
      "cell_type": "markdown",
      "source": [
        "**1) Top Five Rows of Dataset :**"
      ],
      "metadata": {
        "id": "_fReAVQMa4dQ"
      }
    },
    {
      "cell_type": "code",
      "source": [
        "data.head()"
      ],
      "metadata": {
        "colab": {
          "base_uri": "https://localhost:8080/",
          "height": 206
        },
        "id": "Pwn6mpm9ZqA5",
        "outputId": "7372038f-39d5-4b82-c59c-da6712c823e4"
      },
      "execution_count": 3,
      "outputs": [
        {
          "output_type": "execute_result",
          "data": {
            "text/plain": [
              "  Car_Name  Year  Selling_Price  Present_Price  Kms_Driven Fuel_Type  \\\n",
              "0     ritz  2014           3.35           5.59       27000    Petrol   \n",
              "1      sx4  2013           4.75           9.54       43000    Diesel   \n",
              "2     ciaz  2017           7.25           9.85        6900    Petrol   \n",
              "3  wagon r  2011           2.85           4.15        5200    Petrol   \n",
              "4    swift  2014           4.60           6.87       42450    Diesel   \n",
              "\n",
              "  Seller_Type Transmission  Owner  \n",
              "0      Dealer       Manual      0  \n",
              "1      Dealer       Manual      0  \n",
              "2      Dealer       Manual      0  \n",
              "3      Dealer       Manual      0  \n",
              "4      Dealer       Manual      0  "
            ],
            "text/html": [
              "\n",
              "  <div id=\"df-f6e74095-7597-4222-b920-dc50a6666e03\">\n",
              "    <div class=\"colab-df-container\">\n",
              "      <div>\n",
              "<style scoped>\n",
              "    .dataframe tbody tr th:only-of-type {\n",
              "        vertical-align: middle;\n",
              "    }\n",
              "\n",
              "    .dataframe tbody tr th {\n",
              "        vertical-align: top;\n",
              "    }\n",
              "\n",
              "    .dataframe thead th {\n",
              "        text-align: right;\n",
              "    }\n",
              "</style>\n",
              "<table border=\"1\" class=\"dataframe\">\n",
              "  <thead>\n",
              "    <tr style=\"text-align: right;\">\n",
              "      <th></th>\n",
              "      <th>Car_Name</th>\n",
              "      <th>Year</th>\n",
              "      <th>Selling_Price</th>\n",
              "      <th>Present_Price</th>\n",
              "      <th>Kms_Driven</th>\n",
              "      <th>Fuel_Type</th>\n",
              "      <th>Seller_Type</th>\n",
              "      <th>Transmission</th>\n",
              "      <th>Owner</th>\n",
              "    </tr>\n",
              "  </thead>\n",
              "  <tbody>\n",
              "    <tr>\n",
              "      <th>0</th>\n",
              "      <td>ritz</td>\n",
              "      <td>2014</td>\n",
              "      <td>3.35</td>\n",
              "      <td>5.59</td>\n",
              "      <td>27000</td>\n",
              "      <td>Petrol</td>\n",
              "      <td>Dealer</td>\n",
              "      <td>Manual</td>\n",
              "      <td>0</td>\n",
              "    </tr>\n",
              "    <tr>\n",
              "      <th>1</th>\n",
              "      <td>sx4</td>\n",
              "      <td>2013</td>\n",
              "      <td>4.75</td>\n",
              "      <td>9.54</td>\n",
              "      <td>43000</td>\n",
              "      <td>Diesel</td>\n",
              "      <td>Dealer</td>\n",
              "      <td>Manual</td>\n",
              "      <td>0</td>\n",
              "    </tr>\n",
              "    <tr>\n",
              "      <th>2</th>\n",
              "      <td>ciaz</td>\n",
              "      <td>2017</td>\n",
              "      <td>7.25</td>\n",
              "      <td>9.85</td>\n",
              "      <td>6900</td>\n",
              "      <td>Petrol</td>\n",
              "      <td>Dealer</td>\n",
              "      <td>Manual</td>\n",
              "      <td>0</td>\n",
              "    </tr>\n",
              "    <tr>\n",
              "      <th>3</th>\n",
              "      <td>wagon r</td>\n",
              "      <td>2011</td>\n",
              "      <td>2.85</td>\n",
              "      <td>4.15</td>\n",
              "      <td>5200</td>\n",
              "      <td>Petrol</td>\n",
              "      <td>Dealer</td>\n",
              "      <td>Manual</td>\n",
              "      <td>0</td>\n",
              "    </tr>\n",
              "    <tr>\n",
              "      <th>4</th>\n",
              "      <td>swift</td>\n",
              "      <td>2014</td>\n",
              "      <td>4.60</td>\n",
              "      <td>6.87</td>\n",
              "      <td>42450</td>\n",
              "      <td>Diesel</td>\n",
              "      <td>Dealer</td>\n",
              "      <td>Manual</td>\n",
              "      <td>0</td>\n",
              "    </tr>\n",
              "  </tbody>\n",
              "</table>\n",
              "</div>\n",
              "      <button class=\"colab-df-convert\" onclick=\"convertToInteractive('df-f6e74095-7597-4222-b920-dc50a6666e03')\"\n",
              "              title=\"Convert this dataframe to an interactive table.\"\n",
              "              style=\"display:none;\">\n",
              "        \n",
              "  <svg xmlns=\"http://www.w3.org/2000/svg\" height=\"24px\"viewBox=\"0 0 24 24\"\n",
              "       width=\"24px\">\n",
              "    <path d=\"M0 0h24v24H0V0z\" fill=\"none\"/>\n",
              "    <path d=\"M18.56 5.44l.94 2.06.94-2.06 2.06-.94-2.06-.94-.94-2.06-.94 2.06-2.06.94zm-11 1L8.5 8.5l.94-2.06 2.06-.94-2.06-.94L8.5 2.5l-.94 2.06-2.06.94zm10 10l.94 2.06.94-2.06 2.06-.94-2.06-.94-.94-2.06-.94 2.06-2.06.94z\"/><path d=\"M17.41 7.96l-1.37-1.37c-.4-.4-.92-.59-1.43-.59-.52 0-1.04.2-1.43.59L10.3 9.45l-7.72 7.72c-.78.78-.78 2.05 0 2.83L4 21.41c.39.39.9.59 1.41.59.51 0 1.02-.2 1.41-.59l7.78-7.78 2.81-2.81c.8-.78.8-2.07 0-2.86zM5.41 20L4 18.59l7.72-7.72 1.47 1.35L5.41 20z\"/>\n",
              "  </svg>\n",
              "      </button>\n",
              "      \n",
              "  <style>\n",
              "    .colab-df-container {\n",
              "      display:flex;\n",
              "      flex-wrap:wrap;\n",
              "      gap: 12px;\n",
              "    }\n",
              "\n",
              "    .colab-df-convert {\n",
              "      background-color: #E8F0FE;\n",
              "      border: none;\n",
              "      border-radius: 50%;\n",
              "      cursor: pointer;\n",
              "      display: none;\n",
              "      fill: #1967D2;\n",
              "      height: 32px;\n",
              "      padding: 0 0 0 0;\n",
              "      width: 32px;\n",
              "    }\n",
              "\n",
              "    .colab-df-convert:hover {\n",
              "      background-color: #E2EBFA;\n",
              "      box-shadow: 0px 1px 2px rgba(60, 64, 67, 0.3), 0px 1px 3px 1px rgba(60, 64, 67, 0.15);\n",
              "      fill: #174EA6;\n",
              "    }\n",
              "\n",
              "    [theme=dark] .colab-df-convert {\n",
              "      background-color: #3B4455;\n",
              "      fill: #D2E3FC;\n",
              "    }\n",
              "\n",
              "    [theme=dark] .colab-df-convert:hover {\n",
              "      background-color: #434B5C;\n",
              "      box-shadow: 0px 1px 3px 1px rgba(0, 0, 0, 0.15);\n",
              "      filter: drop-shadow(0px 1px 2px rgba(0, 0, 0, 0.3));\n",
              "      fill: #FFFFFF;\n",
              "    }\n",
              "  </style>\n",
              "\n",
              "      <script>\n",
              "        const buttonEl =\n",
              "          document.querySelector('#df-f6e74095-7597-4222-b920-dc50a6666e03 button.colab-df-convert');\n",
              "        buttonEl.style.display =\n",
              "          google.colab.kernel.accessAllowed ? 'block' : 'none';\n",
              "\n",
              "        async function convertToInteractive(key) {\n",
              "          const element = document.querySelector('#df-f6e74095-7597-4222-b920-dc50a6666e03');\n",
              "          const dataTable =\n",
              "            await google.colab.kernel.invokeFunction('convertToInteractive',\n",
              "                                                     [key], {});\n",
              "          if (!dataTable) return;\n",
              "\n",
              "          const docLinkHtml = 'Like what you see? Visit the ' +\n",
              "            '<a target=\"_blank\" href=https://colab.research.google.com/notebooks/data_table.ipynb>data table notebook</a>'\n",
              "            + ' to learn more about interactive tables.';\n",
              "          element.innerHTML = '';\n",
              "          dataTable['output_type'] = 'display_data';\n",
              "          await google.colab.output.renderOutput(dataTable, element);\n",
              "          const docLink = document.createElement('div');\n",
              "          docLink.innerHTML = docLinkHtml;\n",
              "          element.appendChild(docLink);\n",
              "        }\n",
              "      </script>\n",
              "    </div>\n",
              "  </div>\n",
              "  "
            ]
          },
          "metadata": {},
          "execution_count": 3
        }
      ]
    },
    {
      "cell_type": "markdown",
      "source": [
        "**2) Last Five Rows of Dataset :**"
      ],
      "metadata": {
        "id": "cgbHR_Nfc6lq"
      }
    },
    {
      "cell_type": "code",
      "source": [
        "data.tail()"
      ],
      "metadata": {
        "colab": {
          "base_uri": "https://localhost:8080/",
          "height": 206
        },
        "id": "J_at0mNua97y",
        "outputId": "8c4854eb-a5ba-4f95-89c8-d8b8b58559be"
      },
      "execution_count": 4,
      "outputs": [
        {
          "output_type": "execute_result",
          "data": {
            "text/plain": [
              "    Car_Name  Year  Selling_Price  Present_Price  Kms_Driven Fuel_Type  \\\n",
              "296     city  2016           9.50           11.6       33988    Diesel   \n",
              "297     brio  2015           4.00            5.9       60000    Petrol   \n",
              "298     city  2009           3.35           11.0       87934    Petrol   \n",
              "299     city  2017          11.50           12.5        9000    Diesel   \n",
              "300     brio  2016           5.30            5.9        5464    Petrol   \n",
              "\n",
              "    Seller_Type Transmission  Owner  \n",
              "296      Dealer       Manual      0  \n",
              "297      Dealer       Manual      0  \n",
              "298      Dealer       Manual      0  \n",
              "299      Dealer       Manual      0  \n",
              "300      Dealer       Manual      0  "
            ],
            "text/html": [
              "\n",
              "  <div id=\"df-178b77f1-d07e-4e27-a0d1-887209632082\">\n",
              "    <div class=\"colab-df-container\">\n",
              "      <div>\n",
              "<style scoped>\n",
              "    .dataframe tbody tr th:only-of-type {\n",
              "        vertical-align: middle;\n",
              "    }\n",
              "\n",
              "    .dataframe tbody tr th {\n",
              "        vertical-align: top;\n",
              "    }\n",
              "\n",
              "    .dataframe thead th {\n",
              "        text-align: right;\n",
              "    }\n",
              "</style>\n",
              "<table border=\"1\" class=\"dataframe\">\n",
              "  <thead>\n",
              "    <tr style=\"text-align: right;\">\n",
              "      <th></th>\n",
              "      <th>Car_Name</th>\n",
              "      <th>Year</th>\n",
              "      <th>Selling_Price</th>\n",
              "      <th>Present_Price</th>\n",
              "      <th>Kms_Driven</th>\n",
              "      <th>Fuel_Type</th>\n",
              "      <th>Seller_Type</th>\n",
              "      <th>Transmission</th>\n",
              "      <th>Owner</th>\n",
              "    </tr>\n",
              "  </thead>\n",
              "  <tbody>\n",
              "    <tr>\n",
              "      <th>296</th>\n",
              "      <td>city</td>\n",
              "      <td>2016</td>\n",
              "      <td>9.50</td>\n",
              "      <td>11.6</td>\n",
              "      <td>33988</td>\n",
              "      <td>Diesel</td>\n",
              "      <td>Dealer</td>\n",
              "      <td>Manual</td>\n",
              "      <td>0</td>\n",
              "    </tr>\n",
              "    <tr>\n",
              "      <th>297</th>\n",
              "      <td>brio</td>\n",
              "      <td>2015</td>\n",
              "      <td>4.00</td>\n",
              "      <td>5.9</td>\n",
              "      <td>60000</td>\n",
              "      <td>Petrol</td>\n",
              "      <td>Dealer</td>\n",
              "      <td>Manual</td>\n",
              "      <td>0</td>\n",
              "    </tr>\n",
              "    <tr>\n",
              "      <th>298</th>\n",
              "      <td>city</td>\n",
              "      <td>2009</td>\n",
              "      <td>3.35</td>\n",
              "      <td>11.0</td>\n",
              "      <td>87934</td>\n",
              "      <td>Petrol</td>\n",
              "      <td>Dealer</td>\n",
              "      <td>Manual</td>\n",
              "      <td>0</td>\n",
              "    </tr>\n",
              "    <tr>\n",
              "      <th>299</th>\n",
              "      <td>city</td>\n",
              "      <td>2017</td>\n",
              "      <td>11.50</td>\n",
              "      <td>12.5</td>\n",
              "      <td>9000</td>\n",
              "      <td>Diesel</td>\n",
              "      <td>Dealer</td>\n",
              "      <td>Manual</td>\n",
              "      <td>0</td>\n",
              "    </tr>\n",
              "    <tr>\n",
              "      <th>300</th>\n",
              "      <td>brio</td>\n",
              "      <td>2016</td>\n",
              "      <td>5.30</td>\n",
              "      <td>5.9</td>\n",
              "      <td>5464</td>\n",
              "      <td>Petrol</td>\n",
              "      <td>Dealer</td>\n",
              "      <td>Manual</td>\n",
              "      <td>0</td>\n",
              "    </tr>\n",
              "  </tbody>\n",
              "</table>\n",
              "</div>\n",
              "      <button class=\"colab-df-convert\" onclick=\"convertToInteractive('df-178b77f1-d07e-4e27-a0d1-887209632082')\"\n",
              "              title=\"Convert this dataframe to an interactive table.\"\n",
              "              style=\"display:none;\">\n",
              "        \n",
              "  <svg xmlns=\"http://www.w3.org/2000/svg\" height=\"24px\"viewBox=\"0 0 24 24\"\n",
              "       width=\"24px\">\n",
              "    <path d=\"M0 0h24v24H0V0z\" fill=\"none\"/>\n",
              "    <path d=\"M18.56 5.44l.94 2.06.94-2.06 2.06-.94-2.06-.94-.94-2.06-.94 2.06-2.06.94zm-11 1L8.5 8.5l.94-2.06 2.06-.94-2.06-.94L8.5 2.5l-.94 2.06-2.06.94zm10 10l.94 2.06.94-2.06 2.06-.94-2.06-.94-.94-2.06-.94 2.06-2.06.94z\"/><path d=\"M17.41 7.96l-1.37-1.37c-.4-.4-.92-.59-1.43-.59-.52 0-1.04.2-1.43.59L10.3 9.45l-7.72 7.72c-.78.78-.78 2.05 0 2.83L4 21.41c.39.39.9.59 1.41.59.51 0 1.02-.2 1.41-.59l7.78-7.78 2.81-2.81c.8-.78.8-2.07 0-2.86zM5.41 20L4 18.59l7.72-7.72 1.47 1.35L5.41 20z\"/>\n",
              "  </svg>\n",
              "      </button>\n",
              "      \n",
              "  <style>\n",
              "    .colab-df-container {\n",
              "      display:flex;\n",
              "      flex-wrap:wrap;\n",
              "      gap: 12px;\n",
              "    }\n",
              "\n",
              "    .colab-df-convert {\n",
              "      background-color: #E8F0FE;\n",
              "      border: none;\n",
              "      border-radius: 50%;\n",
              "      cursor: pointer;\n",
              "      display: none;\n",
              "      fill: #1967D2;\n",
              "      height: 32px;\n",
              "      padding: 0 0 0 0;\n",
              "      width: 32px;\n",
              "    }\n",
              "\n",
              "    .colab-df-convert:hover {\n",
              "      background-color: #E2EBFA;\n",
              "      box-shadow: 0px 1px 2px rgba(60, 64, 67, 0.3), 0px 1px 3px 1px rgba(60, 64, 67, 0.15);\n",
              "      fill: #174EA6;\n",
              "    }\n",
              "\n",
              "    [theme=dark] .colab-df-convert {\n",
              "      background-color: #3B4455;\n",
              "      fill: #D2E3FC;\n",
              "    }\n",
              "\n",
              "    [theme=dark] .colab-df-convert:hover {\n",
              "      background-color: #434B5C;\n",
              "      box-shadow: 0px 1px 3px 1px rgba(0, 0, 0, 0.15);\n",
              "      filter: drop-shadow(0px 1px 2px rgba(0, 0, 0, 0.3));\n",
              "      fill: #FFFFFF;\n",
              "    }\n",
              "  </style>\n",
              "\n",
              "      <script>\n",
              "        const buttonEl =\n",
              "          document.querySelector('#df-178b77f1-d07e-4e27-a0d1-887209632082 button.colab-df-convert');\n",
              "        buttonEl.style.display =\n",
              "          google.colab.kernel.accessAllowed ? 'block' : 'none';\n",
              "\n",
              "        async function convertToInteractive(key) {\n",
              "          const element = document.querySelector('#df-178b77f1-d07e-4e27-a0d1-887209632082');\n",
              "          const dataTable =\n",
              "            await google.colab.kernel.invokeFunction('convertToInteractive',\n",
              "                                                     [key], {});\n",
              "          if (!dataTable) return;\n",
              "\n",
              "          const docLinkHtml = 'Like what you see? Visit the ' +\n",
              "            '<a target=\"_blank\" href=https://colab.research.google.com/notebooks/data_table.ipynb>data table notebook</a>'\n",
              "            + ' to learn more about interactive tables.';\n",
              "          element.innerHTML = '';\n",
              "          dataTable['output_type'] = 'display_data';\n",
              "          await google.colab.output.renderOutput(dataTable, element);\n",
              "          const docLink = document.createElement('div');\n",
              "          docLink.innerHTML = docLinkHtml;\n",
              "          element.appendChild(docLink);\n",
              "        }\n",
              "      </script>\n",
              "    </div>\n",
              "  </div>\n",
              "  "
            ]
          },
          "metadata": {},
          "execution_count": 4
        }
      ]
    },
    {
      "cell_type": "markdown",
      "source": [
        "**3) Shape of Dataset :**"
      ],
      "metadata": {
        "id": "kwIBnjoidRmY"
      }
    },
    {
      "cell_type": "code",
      "source": [
        "data.shape\n",
        "print(\"Number of Rows:\",data.shape[0])\n",
        "print(\"Number of Columns:\",data.shape[1])"
      ],
      "metadata": {
        "colab": {
          "base_uri": "https://localhost:8080/"
        },
        "id": "dFV1dFQLdPXg",
        "outputId": "89a51922-3320-45cc-f282-190a7d1fde95"
      },
      "execution_count": 5,
      "outputs": [
        {
          "output_type": "stream",
          "name": "stdout",
          "text": [
            "Number of Rows: 301\n",
            "Number of Columns: 9\n"
          ]
        }
      ]
    },
    {
      "cell_type": "markdown",
      "source": [
        "**4) Data Types :**"
      ],
      "metadata": {
        "id": "QqSD574kdaNf"
      }
    },
    {
      "cell_type": "code",
      "source": [
        "data.dtypes"
      ],
      "metadata": {
        "colab": {
          "base_uri": "https://localhost:8080/"
        },
        "id": "L8L4zBCTdYB4",
        "outputId": "16ec10e5-59a8-420f-c382-b7d574ce8b63"
      },
      "execution_count": 6,
      "outputs": [
        {
          "output_type": "execute_result",
          "data": {
            "text/plain": [
              "Car_Name          object\n",
              "Year               int64\n",
              "Selling_Price    float64\n",
              "Present_Price    float64\n",
              "Kms_Driven         int64\n",
              "Fuel_Type         object\n",
              "Seller_Type       object\n",
              "Transmission      object\n",
              "Owner              int64\n",
              "dtype: object"
            ]
          },
          "metadata": {},
          "execution_count": 6
        }
      ]
    },
    {
      "cell_type": "markdown",
      "source": [
        "**5) Information of Dataset**"
      ],
      "metadata": {
        "id": "JKzokWKadpax"
      }
    },
    {
      "cell_type": "code",
      "source": [
        "data.info()"
      ],
      "metadata": {
        "colab": {
          "base_uri": "https://localhost:8080/"
        },
        "id": "DuBK8o7AdfSI",
        "outputId": "2a348796-2c58-4679-c282-57c0adfaf6b9"
      },
      "execution_count": 7,
      "outputs": [
        {
          "output_type": "stream",
          "name": "stdout",
          "text": [
            "<class 'pandas.core.frame.DataFrame'>\n",
            "RangeIndex: 301 entries, 0 to 300\n",
            "Data columns (total 9 columns):\n",
            " #   Column         Non-Null Count  Dtype  \n",
            "---  ------         --------------  -----  \n",
            " 0   Car_Name       301 non-null    object \n",
            " 1   Year           301 non-null    int64  \n",
            " 2   Selling_Price  301 non-null    float64\n",
            " 3   Present_Price  301 non-null    float64\n",
            " 4   Kms_Driven     301 non-null    int64  \n",
            " 5   Fuel_Type      301 non-null    object \n",
            " 6   Seller_Type    301 non-null    object \n",
            " 7   Transmission   301 non-null    object \n",
            " 8   Owner          301 non-null    int64  \n",
            "dtypes: float64(2), int64(3), object(4)\n",
            "memory usage: 21.3+ KB\n"
          ]
        }
      ]
    },
    {
      "cell_type": "markdown",
      "source": [
        "**6) Checking Missing Values of Dataset**"
      ],
      "metadata": {
        "id": "i6500e5bdwOP"
      }
    },
    {
      "cell_type": "code",
      "source": [
        "plt.figure(figsize = (12,8))\n",
        "sns.heatmap(data.isnull())"
      ],
      "metadata": {
        "colab": {
          "base_uri": "https://localhost:8080/",
          "height": 561
        },
        "id": "SqXQ0nOHdrfO",
        "outputId": "c40e3bf5-ec43-460c-943d-b003a4e01f48"
      },
      "execution_count": 8,
      "outputs": [
        {
          "output_type": "execute_result",
          "data": {
            "text/plain": [
              "<matplotlib.axes._subplots.AxesSubplot at 0x7fbb63ae1280>"
            ]
          },
          "metadata": {},
          "execution_count": 8
        },
        {
          "output_type": "display_data",
          "data": {
            "text/plain": [
              "<Figure size 864x576 with 2 Axes>"
            ],
            "image/png": "[encoded data removed]"
          },
          "metadata": {
            "needs_background": "light"
          }
        }
      ]
    },
    {
      "cell_type": "code",
      "source": [
        "data.isnull().sum()"
      ],
      "metadata": {
        "colab": {
          "base_uri": "https://localhost:8080/"
        },
        "id": "P9DE1On4dz2B",
        "outputId": "ac2f2e74-44eb-4e17-8dd0-59f83f433fa9"
      },
      "execution_count": 9,
      "outputs": [
        {
          "output_type": "execute_result",
          "data": {
            "text/plain": [
              "Car_Name         0\n",
              "Year             0\n",
              "Selling_Price    0\n",
              "Present_Price    0\n",
              "Kms_Driven       0\n",
              "Fuel_Type        0\n",
              "Seller_Type      0\n",
              "Transmission     0\n",
              "Owner            0\n",
              "dtype: int64"
            ]
          },
          "metadata": {},
          "execution_count": 9
        }
      ]
    },
    {
      "cell_type": "markdown",
      "source": [
        "**7) Droping Duplicates Values of Dataset**"
      ],
      "metadata": {
        "id": "wEPjydZNd4nH"
      }
    },
    {
      "cell_type": "code",
      "source": [
        "data = data.drop_duplicates()\n",
        "data"
      ],
      "metadata": {
        "colab": {
          "base_uri": "https://localhost:8080/",
          "height": 424
        },
        "id": "fAzFoCwCd2Yj",
        "outputId": "105e28bf-3d69-4ce5-b7f8-6227db6f5bd1"
      },
      "execution_count": 10,
      "outputs": [
        {
          "output_type": "execute_result",
          "data": {
            "text/plain": [
              "    Car_Name  Year  Selling_Price  Present_Price  Kms_Driven Fuel_Type  \\\n",
              "0       ritz  2014           3.35           5.59       27000    Petrol   \n",
              "1        sx4  2013           4.75           9.54       43000    Diesel   \n",
              "2       ciaz  2017           7.25           9.85        6900    Petrol   \n",
              "3    wagon r  2011           2.85           4.15        5200    Petrol   \n",
              "4      swift  2014           4.60           6.87       42450    Diesel   \n",
              "..       ...   ...            ...            ...         ...       ...   \n",
              "296     city  2016           9.50          11.60       33988    Diesel   \n",
              "297     brio  2015           4.00           5.90       60000    Petrol   \n",
              "298     city  2009           3.35          11.00       87934    Petrol   \n",
              "299     city  2017          11.50          12.50        9000    Diesel   \n",
              "300     brio  2016           5.30           5.90        5464    Petrol   \n",
              "\n",
              "    Seller_Type Transmission  Owner  \n",
              "0        Dealer       Manual      0  \n",
              "1        Dealer       Manual      0  \n",
              "2        Dealer       Manual      0  \n",
              "3        Dealer       Manual      0  \n",
              "4        Dealer       Manual      0  \n",
              "..          ...          ...    ...  \n",
              "296      Dealer       Manual      0  \n",
              "297      Dealer       Manual      0  \n",
              "298      Dealer       Manual      0  \n",
              "299      Dealer       Manual      0  \n",
              "300      Dealer       Manual      0  \n",
              "\n",
              "[299 rows x 9 columns]"
            ],
            "text/html": [
              "\n",
              "  <div id=\"df-01490fe4-62f6-440e-be51-53544297ab84\">\n",
              "    <div class=\"colab-df-container\">\n",
              "      <div>\n",
              "<style scoped>\n",
              "    .dataframe tbody tr th:only-of-type {\n",
              "        vertical-align: middle;\n",
              "    }\n",
              "\n",
              "    .dataframe tbody tr th {\n",
              "        vertical-align: top;\n",
              "    }\n",
              "\n",
              "    .dataframe thead th {\n",
              "        text-align: right;\n",
              "    }\n",
              "</style>\n",
              "<table border=\"1\" class=\"dataframe\">\n",
              "  <thead>\n",
              "    <tr style=\"text-align: right;\">\n",
              "      <th></th>\n",
              "      <th>Car_Name</th>\n",
              "      <th>Year</th>\n",
              "      <th>Selling_Price</th>\n",
              "      <th>Present_Price</th>\n",
              "      <th>Kms_Driven</th>\n",
              "      <th>Fuel_Type</th>\n",
              "      <th>Seller_Type</th>\n",
              "      <th>Transmission</th>\n",
              "      <th>Owner</th>\n",
              "    </tr>\n",
              "  </thead>\n",
              "  <tbody>\n",
              "    <tr>\n",
              "      <th>0</th>\n",
              "      <td>ritz</td>\n",
              "      <td>2014</td>\n",
              "      <td>3.35</td>\n",
              "      <td>5.59</td>\n",
              "      <td>27000</td>\n",
              "      <td>Petrol</td>\n",
              "      <td>Dealer</td>\n",
              "      <td>Manual</td>\n",
              "      <td>0</td>\n",
              "    </tr>\n",
              "    <tr>\n",
              "      <th>1</th>\n",
              "      <td>sx4</td>\n",
              "      <td>2013</td>\n",
              "      <td>4.75</td>\n",
              "      <td>9.54</td>\n",
              "      <td>43000</td>\n",
              "      <td>Diesel</td>\n",
              "      <td>Dealer</td>\n",
              "      <td>Manual</td>\n",
              "      <td>0</td>\n",
              "    </tr>\n",
              "    <tr>\n",
              "      <th>2</th>\n",
              "      <td>ciaz</td>\n",
              "      <td>2017</td>\n",
              "      <td>7.25</td>\n",
              "      <td>9.85</td>\n",
              "      <td>6900</td>\n",
              "      <td>Petrol</td>\n",
              "      <td>Dealer</td>\n",
              "      <td>Manual</td>\n",
              "      <td>0</td>\n",
              "    </tr>\n",
              "    <tr>\n",
              "      <th>3</th>\n",
              "      <td>wagon r</td>\n",
              "      <td>2011</td>\n",
              "      <td>2.85</td>\n",
              "      <td>4.15</td>\n",
              "      <td>5200</td>\n",
              "      <td>Petrol</td>\n",
              "      <td>Dealer</td>\n",
              "      <td>Manual</td>\n",
              "      <td>0</td>\n",
              "    </tr>\n",
              "    <tr>\n",
              "      <th>4</th>\n",
              "      <td>swift</td>\n",
              "      <td>2014</td>\n",
              "      <td>4.60</td>\n",
              "      <td>6.87</td>\n",
              "      <td>42450</td>\n",
              "      <td>Diesel</td>\n",
              "      <td>Dealer</td>\n",
              "      <td>Manual</td>\n",
              "      <td>0</td>\n",
              "    </tr>\n",
              "    <tr>\n",
              "      <th>...</th>\n",
              "      <td>...</td>\n",
              "      <td>...</td>\n",
              "      <td>...</td>\n",
              "      <td>...</td>\n",
              "      <td>...</td>\n",
              "      <td>...</td>\n",
              "      <td>...</td>\n",
              "      <td>...</td>\n",
              "      <td>...</td>\n",
              "    </tr>\n",
              "    <tr>\n",
              "      <th>296</th>\n",
              "      <td>city</td>\n",
              "      <td>2016</td>\n",
              "      <td>9.50</td>\n",
              "      <td>11.60</td>\n",
              "      <td>33988</td>\n",
              "      <td>Diesel</td>\n",
              "      <td>Dealer</td>\n",
              "      <td>Manual</td>\n",
              "      <td>0</td>\n",
              "    </tr>\n",
              "    <tr>\n",
              "      <th>297</th>\n",
              "      <td>brio</td>\n",
              "      <td>2015</td>\n",
              "      <td>4.00</td>\n",
              "      <td>5.90</td>\n",
              "      <td>60000</td>\n",
              "      <td>Petrol</td>\n",
              "      <td>Dealer</td>\n",
              "      <td>Manual</td>\n",
              "      <td>0</td>\n",
              "    </tr>\n",
              "    <tr>\n",
              "      <th>298</th>\n",
              "      <td>city</td>\n",
              "      <td>2009</td>\n",
              "      <td>3.35</td>\n",
              "      <td>11.00</td>\n",
              "      <td>87934</td>\n",
              "      <td>Petrol</td>\n",
              "      <td>Dealer</td>\n",
              "      <td>Manual</td>\n",
              "      <td>0</td>\n",
              "    </tr>\n",
              "    <tr>\n",
              "      <th>299</th>\n",
              "      <td>city</td>\n",
              "      <td>2017</td>\n",
              "      <td>11.50</td>\n",
              "      <td>12.50</td>\n",
              "      <td>9000</td>\n",
              "      <td>Diesel</td>\n",
              "      <td>Dealer</td>\n",
              "      <td>Manual</td>\n",
              "      <td>0</td>\n",
              "    </tr>\n",
              "    <tr>\n",
              "      <th>300</th>\n",
              "      <td>brio</td>\n",
              "      <td>2016</td>\n",
              "      <td>5.30</td>\n",
              "      <td>5.90</td>\n",
              "      <td>5464</td>\n",
              "      <td>Petrol</td>\n",
              "      <td>Dealer</td>\n",
              "      <td>Manual</td>\n",
              "      <td>0</td>\n",
              "    </tr>\n",
              "  </tbody>\n",
              "</table>\n",
              "<p>299 rows × 9 columns</p>\n",
              "</div>\n",
              "      <button class=\"colab-df-convert\" onclick=\"convertToInteractive('df-01490fe4-62f6-440e-be51-53544297ab84')\"\n",
              "              title=\"Convert this dataframe to an interactive table.\"\n",
              "              style=\"display:none;\">\n",
              "        \n",
              "  <svg xmlns=\"http://www.w3.org/2000/svg\" height=\"24px\"viewBox=\"0 0 24 24\"\n",
              "       width=\"24px\">\n",
              "    <path d=\"M0 0h24v24H0V0z\" fill=\"none\"/>\n",
              "    <path d=\"M18.56 5.44l.94 2.06.94-2.06 2.06-.94-2.06-.94-.94-2.06-.94 2.06-2.06.94zm-11 1L8.5 8.5l.94-2.06 2.06-.94-2.06-.94L8.5 2.5l-.94 2.06-2.06.94zm10 10l.94 2.06.94-2.06 2.06-.94-2.06-.94-.94-2.06-.94 2.06-2.06.94z\"/><path d=\"M17.41 7.96l-1.37-1.37c-.4-.4-.92-.59-1.43-.59-.52 0-1.04.2-1.43.59L10.3 9.45l-7.72 7.72c-.78.78-.78 2.05 0 2.83L4 21.41c.39.39.9.59 1.41.59.51 0 1.02-.2 1.41-.59l7.78-7.78 2.81-2.81c.8-.78.8-2.07 0-2.86zM5.41 20L4 18.59l7.72-7.72 1.47 1.35L5.41 20z\"/>\n",
              "  </svg>\n",
              "      </button>\n",
              "      \n",
              "  <style>\n",
              "    .colab-df-container {\n",
              "      display:flex;\n",
              "      flex-wrap:wrap;\n",
              "      gap: 12px;\n",
              "    }\n",
              "\n",
              "    .colab-df-convert {\n",
              "      background-color: #E8F0FE;\n",
              "      border: none;\n",
              "      border-radius: 50%;\n",
              "      cursor: pointer;\n",
              "      display: none;\n",
              "      fill: #1967D2;\n",
              "      height: 32px;\n",
              "      padding: 0 0 0 0;\n",
              "      width: 32px;\n",
              "    }\n",
              "\n",
              "    .colab-df-convert:hover {\n",
              "      background-color: #E2EBFA;\n",
              "      box-shadow: 0px 1px 2px rgba(60, 64, 67, 0.3), 0px 1px 3px 1px rgba(60, 64, 67, 0.15);\n",
              "      fill: #174EA6;\n",
              "    }\n",
              "\n",
              "    [theme=dark] .colab-df-convert {\n",
              "      background-color: #3B4455;\n",
              "      fill: #D2E3FC;\n",
              "    }\n",
              "\n",
              "    [theme=dark] .colab-df-convert:hover {\n",
              "      background-color: #434B5C;\n",
              "      box-shadow: 0px 1px 3px 1px rgba(0, 0, 0, 0.15);\n",
              "      filter: drop-shadow(0px 1px 2px rgba(0, 0, 0, 0.3));\n",
              "      fill: #FFFFFF;\n",
              "    }\n",
              "  </style>\n",
              "\n",
              "      <script>\n",
              "        const buttonEl =\n",
              "          document.querySelector('#df-01490fe4-62f6-440e-be51-53544297ab84 button.colab-df-convert');\n",
              "        buttonEl.style.display =\n",
              "          google.colab.kernel.accessAllowed ? 'block' : 'none';\n",
              "\n",
              "        async function convertToInteractive(key) {\n",
              "          const element = document.querySelector('#df-01490fe4-62f6-440e-be51-53544297ab84');\n",
              "          const dataTable =\n",
              "            await google.colab.kernel.invokeFunction('convertToInteractive',\n",
              "                                                     [key], {});\n",
              "          if (!dataTable) return;\n",
              "\n",
              "          const docLinkHtml = 'Like what you see? Visit the ' +\n",
              "            '<a target=\"_blank\" href=https://colab.research.google.com/notebooks/data_table.ipynb>data table notebook</a>'\n",
              "            + ' to learn more about interactive tables.';\n",
              "          element.innerHTML = '';\n",
              "          dataTable['output_type'] = 'display_data';\n",
              "          await google.colab.output.renderOutput(dataTable, element);\n",
              "          const docLink = document.createElement('div');\n",
              "          docLink.innerHTML = docLinkHtml;\n",
              "          element.appendChild(docLink);\n",
              "        }\n",
              "      </script>\n",
              "    </div>\n",
              "  </div>\n",
              "  "
            ]
          },
          "metadata": {},
          "execution_count": 10
        }
      ]
    },
    {
      "cell_type": "markdown",
      "source": [
        "**8) Drop Unnecessary Columns**"
      ],
      "metadata": {
        "id": "GV4ARnIPelZ_"
      }
    },
    {
      "cell_type": "code",
      "source": [
        "data = data.drop(columns=\"Car_Name\",axis=1)\n",
        "data.head()"
      ],
      "metadata": {
        "colab": {
          "base_uri": "https://localhost:8080/",
          "height": 206
        },
        "id": "eDoNboVpd63i",
        "outputId": "cf8ebc00-c028-4166-8402-25a38e4fb5df"
      },
      "execution_count": 11,
      "outputs": [
        {
          "output_type": "execute_result",
          "data": {
            "text/plain": [
              "   Year  Selling_Price  Present_Price  Kms_Driven Fuel_Type Seller_Type  \\\n",
              "0  2014           3.35           5.59       27000    Petrol      Dealer   \n",
              "1  2013           4.75           9.54       43000    Diesel      Dealer   \n",
              "2  2017           7.25           9.85        6900    Petrol      Dealer   \n",
              "3  2011           2.85           4.15        5200    Petrol      Dealer   \n",
              "4  2014           4.60           6.87       42450    Diesel      Dealer   \n",
              "\n",
              "  Transmission  Owner  \n",
              "0       Manual      0  \n",
              "1       Manual      0  \n",
              "2       Manual      0  \n",
              "3       Manual      0  \n",
              "4       Manual      0  "
            ],
            "text/html": [
              "\n",
              "  <div id=\"df-6af0d325-8da0-4ec1-aea2-311c4f7ead9c\">\n",
              "    <div class=\"colab-df-container\">\n",
              "      <div>\n",
              "<style scoped>\n",
              "    .dataframe tbody tr th:only-of-type {\n",
              "        vertical-align: middle;\n",
              "    }\n",
              "\n",
              "    .dataframe tbody tr th {\n",
              "        vertical-align: top;\n",
              "    }\n",
              "\n",
              "    .dataframe thead th {\n",
              "        text-align: right;\n",
              "    }\n",
              "</style>\n",
              "<table border=\"1\" class=\"dataframe\">\n",
              "  <thead>\n",
              "    <tr style=\"text-align: right;\">\n",
              "      <th></th>\n",
              "      <th>Year</th>\n",
              "      <th>Selling_Price</th>\n",
              "      <th>Present_Price</th>\n",
              "      <th>Kms_Driven</th>\n",
              "      <th>Fuel_Type</th>\n",
              "      <th>Seller_Type</th>\n",
              "      <th>Transmission</th>\n",
              "      <th>Owner</th>\n",
              "    </tr>\n",
              "  </thead>\n",
              "  <tbody>\n",
              "    <tr>\n",
              "      <th>0</th>\n",
              "      <td>2014</td>\n",
              "      <td>3.35</td>\n",
              "      <td>5.59</td>\n",
              "      <td>27000</td>\n",
              "      <td>Petrol</td>\n",
              "      <td>Dealer</td>\n",
              "      <td>Manual</td>\n",
              "      <td>0</td>\n",
              "    </tr>\n",
              "    <tr>\n",
              "      <th>1</th>\n",
              "      <td>2013</td>\n",
              "      <td>4.75</td>\n",
              "      <td>9.54</td>\n",
              "      <td>43000</td>\n",
              "      <td>Diesel</td>\n",
              "      <td>Dealer</td>\n",
              "      <td>Manual</td>\n",
              "      <td>0</td>\n",
              "    </tr>\n",
              "    <tr>\n",
              "      <th>2</th>\n",
              "      <td>2017</td>\n",
              "      <td>7.25</td>\n",
              "      <td>9.85</td>\n",
              "      <td>6900</td>\n",
              "      <td>Petrol</td>\n",
              "      <td>Dealer</td>\n",
              "      <td>Manual</td>\n",
              "      <td>0</td>\n",
              "    </tr>\n",
              "    <tr>\n",
              "      <th>3</th>\n",
              "      <td>2011</td>\n",
              "      <td>2.85</td>\n",
              "      <td>4.15</td>\n",
              "      <td>5200</td>\n",
              "      <td>Petrol</td>\n",
              "      <td>Dealer</td>\n",
              "      <td>Manual</td>\n",
              "      <td>0</td>\n",
              "    </tr>\n",
              "    <tr>\n",
              "      <th>4</th>\n",
              "      <td>2014</td>\n",
              "      <td>4.60</td>\n",
              "      <td>6.87</td>\n",
              "      <td>42450</td>\n",
              "      <td>Diesel</td>\n",
              "      <td>Dealer</td>\n",
              "      <td>Manual</td>\n",
              "      <td>0</td>\n",
              "    </tr>\n",
              "  </tbody>\n",
              "</table>\n",
              "</div>\n",
              "      <button class=\"colab-df-convert\" onclick=\"convertToInteractive('df-6af0d325-8da0-4ec1-aea2-311c4f7ead9c')\"\n",
              "              title=\"Convert this dataframe to an interactive table.\"\n",
              "              style=\"display:none;\">\n",
              "        \n",
              "  <svg xmlns=\"http://www.w3.org/2000/svg\" height=\"24px\"viewBox=\"0 0 24 24\"\n",
              "       width=\"24px\">\n",
              "    <path d=\"M0 0h24v24H0V0z\" fill=\"none\"/>\n",
              "    <path d=\"M18.56 5.44l.94 2.06.94-2.06 2.06-.94-2.06-.94-.94-2.06-.94 2.06-2.06.94zm-11 1L8.5 8.5l.94-2.06 2.06-.94-2.06-.94L8.5 2.5l-.94 2.06-2.06.94zm10 10l.94 2.06.94-2.06 2.06-.94-2.06-.94-.94-2.06-.94 2.06-2.06.94z\"/><path d=\"M17.41 7.96l-1.37-1.37c-.4-.4-.92-.59-1.43-.59-.52 0-1.04.2-1.43.59L10.3 9.45l-7.72 7.72c-.78.78-.78 2.05 0 2.83L4 21.41c.39.39.9.59 1.41.59.51 0 1.02-.2 1.41-.59l7.78-7.78 2.81-2.81c.8-.78.8-2.07 0-2.86zM5.41 20L4 18.59l7.72-7.72 1.47 1.35L5.41 20z\"/>\n",
              "  </svg>\n",
              "      </button>\n",
              "      \n",
              "  <style>\n",
              "    .colab-df-container {\n",
              "      display:flex;\n",
              "      flex-wrap:wrap;\n",
              "      gap: 12px;\n",
              "    }\n",
              "\n",
              "    .colab-df-convert {\n",
              "      background-color: #E8F0FE;\n",
              "      border: none;\n",
              "      border-radius: 50%;\n",
              "      cursor: pointer;\n",
              "      display: none;\n",
              "      fill: #1967D2;\n",
              "      height: 32px;\n",
              "      padding: 0 0 0 0;\n",
              "      width: 32px;\n",
              "    }\n",
              "\n",
              "    .colab-df-convert:hover {\n",
              "      background-color: #E2EBFA;\n",
              "      box-shadow: 0px 1px 2px rgba(60, 64, 67, 0.3), 0px 1px 3px 1px rgba(60, 64, 67, 0.15);\n",
              "      fill: #174EA6;\n",
              "    }\n",
              "\n",
              "    [theme=dark] .colab-df-convert {\n",
              "      background-color: #3B4455;\n",
              "      fill: #D2E3FC;\n",
              "    }\n",
              "\n",
              "    [theme=dark] .colab-df-convert:hover {\n",
              "      background-color: #434B5C;\n",
              "      box-shadow: 0px 1px 3px 1px rgba(0, 0, 0, 0.15);\n",
              "      filter: drop-shadow(0px 1px 2px rgba(0, 0, 0, 0.3));\n",
              "      fill: #FFFFFF;\n",
              "    }\n",
              "  </style>\n",
              "\n",
              "      <script>\n",
              "        const buttonEl =\n",
              "          document.querySelector('#df-6af0d325-8da0-4ec1-aea2-311c4f7ead9c button.colab-df-convert');\n",
              "        buttonEl.style.display =\n",
              "          google.colab.kernel.accessAllowed ? 'block' : 'none';\n",
              "\n",
              "        async function convertToInteractive(key) {\n",
              "          const element = document.querySelector('#df-6af0d325-8da0-4ec1-aea2-311c4f7ead9c');\n",
              "          const dataTable =\n",
              "            await google.colab.kernel.invokeFunction('convertToInteractive',\n",
              "                                                     [key], {});\n",
              "          if (!dataTable) return;\n",
              "\n",
              "          const docLinkHtml = 'Like what you see? Visit the ' +\n",
              "            '<a target=\"_blank\" href=https://colab.research.google.com/notebooks/data_table.ipynb>data table notebook</a>'\n",
              "            + ' to learn more about interactive tables.';\n",
              "          element.innerHTML = '';\n",
              "          dataTable['output_type'] = 'display_data';\n",
              "          await google.colab.output.renderOutput(dataTable, element);\n",
              "          const docLink = document.createElement('div');\n",
              "          docLink.innerHTML = docLinkHtml;\n",
              "          element.appendChild(docLink);\n",
              "        }\n",
              "      </script>\n",
              "    </div>\n",
              "  </div>\n",
              "  "
            ]
          },
          "metadata": {},
          "execution_count": 11
        }
      ]
    },
    {
      "cell_type": "markdown",
      "source": [
        "**9) Label Encoding**"
      ],
      "metadata": {
        "id": "-sRBVqJvfQuQ"
      }
    },
    {
      "cell_type": "code",
      "source": [
        "from sklearn.preprocessing import LabelEncoder\n",
        "cols = [\"Fuel_Type\",\"Seller_Type\",\"Transmission\"]\n",
        "\n",
        "le = LabelEncoder()\n",
        "for col in cols:\n",
        "  data[col] = le.fit_transform(data[col])"
      ],
      "metadata": {
        "id": "5DN-Szp1fBtc"
      },
      "execution_count": 12,
      "outputs": []
    },
    {
      "cell_type": "code",
      "source": [
        "data.head()"
      ],
      "metadata": {
        "colab": {
          "base_uri": "https://localhost:8080/",
          "height": 206
        },
        "id": "AjceUb6Yfow4",
        "outputId": "9bb79f3d-c648-4ca8-b552-a25063639999"
      },
      "execution_count": 13,
      "outputs": [
        {
          "output_type": "execute_result",
          "data": {
            "text/plain": [
              "   Year  Selling_Price  Present_Price  Kms_Driven  Fuel_Type  Seller_Type  \\\n",
              "0  2014           3.35           5.59       27000          2            0   \n",
              "1  2013           4.75           9.54       43000          1            0   \n",
              "2  2017           7.25           9.85        6900          2            0   \n",
              "3  2011           2.85           4.15        5200          2            0   \n",
              "4  2014           4.60           6.87       42450          1            0   \n",
              "\n",
              "   Transmission  Owner  \n",
              "0             1      0  \n",
              "1             1      0  \n",
              "2             1      0  \n",
              "3             1      0  \n",
              "4             1      0  "
            ],
            "text/html": [
              "\n",
              "  <div id=\"df-c8f997ff-491b-4819-8703-343b50362e4f\">\n",
              "    <div class=\"colab-df-container\">\n",
              "      <div>\n",
              "<style scoped>\n",
              "    .dataframe tbody tr th:only-of-type {\n",
              "        vertical-align: middle;\n",
              "    }\n",
              "\n",
              "    .dataframe tbody tr th {\n",
              "        vertical-align: top;\n",
              "    }\n",
              "\n",
              "    .dataframe thead th {\n",
              "        text-align: right;\n",
              "    }\n",
              "</style>\n",
              "<table border=\"1\" class=\"dataframe\">\n",
              "  <thead>\n",
              "    <tr style=\"text-align: right;\">\n",
              "      <th></th>\n",
              "      <th>Year</th>\n",
              "      <th>Selling_Price</th>\n",
              "      <th>Present_Price</th>\n",
              "      <th>Kms_Driven</th>\n",
              "      <th>Fuel_Type</th>\n",
              "      <th>Seller_Type</th>\n",
              "      <th>Transmission</th>\n",
              "      <th>Owner</th>\n",
              "    </tr>\n",
              "  </thead>\n",
              "  <tbody>\n",
              "    <tr>\n",
              "      <th>0</th>\n",
              "      <td>2014</td>\n",
              "      <td>3.35</td>\n",
              "      <td>5.59</td>\n",
              "      <td>27000</td>\n",
              "      <td>2</td>\n",
              "      <td>0</td>\n",
              "      <td>1</td>\n",
              "      <td>0</td>\n",
              "    </tr>\n",
              "    <tr>\n",
              "      <th>1</th>\n",
              "      <td>2013</td>\n",
              "      <td>4.75</td>\n",
              "      <td>9.54</td>\n",
              "      <td>43000</td>\n",
              "      <td>1</td>\n",
              "      <td>0</td>\n",
              "      <td>1</td>\n",
              "      <td>0</td>\n",
              "    </tr>\n",
              "    <tr>\n",
              "      <th>2</th>\n",
              "      <td>2017</td>\n",
              "      <td>7.25</td>\n",
              "      <td>9.85</td>\n",
              "      <td>6900</td>\n",
              "      <td>2</td>\n",
              "      <td>0</td>\n",
              "      <td>1</td>\n",
              "      <td>0</td>\n",
              "    </tr>\n",
              "    <tr>\n",
              "      <th>3</th>\n",
              "      <td>2011</td>\n",
              "      <td>2.85</td>\n",
              "      <td>4.15</td>\n",
              "      <td>5200</td>\n",
              "      <td>2</td>\n",
              "      <td>0</td>\n",
              "      <td>1</td>\n",
              "      <td>0</td>\n",
              "    </tr>\n",
              "    <tr>\n",
              "      <th>4</th>\n",
              "      <td>2014</td>\n",
              "      <td>4.60</td>\n",
              "      <td>6.87</td>\n",
              "      <td>42450</td>\n",
              "      <td>1</td>\n",
              "      <td>0</td>\n",
              "      <td>1</td>\n",
              "      <td>0</td>\n",
              "    </tr>\n",
              "  </tbody>\n",
              "</table>\n",
              "</div>\n",
              "      <button class=\"colab-df-convert\" onclick=\"convertToInteractive('df-c8f997ff-491b-4819-8703-343b50362e4f')\"\n",
              "              title=\"Convert this dataframe to an interactive table.\"\n",
              "              style=\"display:none;\">\n",
              "        \n",
              "  <svg xmlns=\"http://www.w3.org/2000/svg\" height=\"24px\"viewBox=\"0 0 24 24\"\n",
              "       width=\"24px\">\n",
              "    <path d=\"M0 0h24v24H0V0z\" fill=\"none\"/>\n",
              "    <path d=\"M18.56 5.44l.94 2.06.94-2.06 2.06-.94-2.06-.94-.94-2.06-.94 2.06-2.06.94zm-11 1L8.5 8.5l.94-2.06 2.06-.94-2.06-.94L8.5 2.5l-.94 2.06-2.06.94zm10 10l.94 2.06.94-2.06 2.06-.94-2.06-.94-.94-2.06-.94 2.06-2.06.94z\"/><path d=\"M17.41 7.96l-1.37-1.37c-.4-.4-.92-.59-1.43-.59-.52 0-1.04.2-1.43.59L10.3 9.45l-7.72 7.72c-.78.78-.78 2.05 0 2.83L4 21.41c.39.39.9.59 1.41.59.51 0 1.02-.2 1.41-.59l7.78-7.78 2.81-2.81c.8-.78.8-2.07 0-2.86zM5.41 20L4 18.59l7.72-7.72 1.47 1.35L5.41 20z\"/>\n",
              "  </svg>\n",
              "      </button>\n",
              "      \n",
              "  <style>\n",
              "    .colab-df-container {\n",
              "      display:flex;\n",
              "      flex-wrap:wrap;\n",
              "      gap: 12px;\n",
              "    }\n",
              "\n",
              "    .colab-df-convert {\n",
              "      background-color: #E8F0FE;\n",
              "      border: none;\n",
              "      border-radius: 50%;\n",
              "      cursor: pointer;\n",
              "      display: none;\n",
              "      fill: #1967D2;\n",
              "      height: 32px;\n",
              "      padding: 0 0 0 0;\n",
              "      width: 32px;\n",
              "    }\n",
              "\n",
              "    .colab-df-convert:hover {\n",
              "      background-color: #E2EBFA;\n",
              "      box-shadow: 0px 1px 2px rgba(60, 64, 67, 0.3), 0px 1px 3px 1px rgba(60, 64, 67, 0.15);\n",
              "      fill: #174EA6;\n",
              "    }\n",
              "\n",
              "    [theme=dark] .colab-df-convert {\n",
              "      background-color: #3B4455;\n",
              "      fill: #D2E3FC;\n",
              "    }\n",
              "\n",
              "    [theme=dark] .colab-df-convert:hover {\n",
              "      background-color: #434B5C;\n",
              "      box-shadow: 0px 1px 3px 1px rgba(0, 0, 0, 0.15);\n",
              "      filter: drop-shadow(0px 1px 2px rgba(0, 0, 0, 0.3));\n",
              "      fill: #FFFFFF;\n",
              "    }\n",
              "  </style>\n",
              "\n",
              "      <script>\n",
              "        const buttonEl =\n",
              "          document.querySelector('#df-c8f997ff-491b-4819-8703-343b50362e4f button.colab-df-convert');\n",
              "        buttonEl.style.display =\n",
              "          google.colab.kernel.accessAllowed ? 'block' : 'none';\n",
              "\n",
              "        async function convertToInteractive(key) {\n",
              "          const element = document.querySelector('#df-c8f997ff-491b-4819-8703-343b50362e4f');\n",
              "          const dataTable =\n",
              "            await google.colab.kernel.invokeFunction('convertToInteractive',\n",
              "                                                     [key], {});\n",
              "          if (!dataTable) return;\n",
              "\n",
              "          const docLinkHtml = 'Like what you see? Visit the ' +\n",
              "            '<a target=\"_blank\" href=https://colab.research.google.com/notebooks/data_table.ipynb>data table notebook</a>'\n",
              "            + ' to learn more about interactive tables.';\n",
              "          element.innerHTML = '';\n",
              "          dataTable['output_type'] = 'display_data';\n",
              "          await google.colab.output.renderOutput(dataTable, element);\n",
              "          const docLink = document.createElement('div');\n",
              "          docLink.innerHTML = docLinkHtml;\n",
              "          element.appendChild(docLink);\n",
              "        }\n",
              "      </script>\n",
              "    </div>\n",
              "  </div>\n",
              "  "
            ]
          },
          "metadata": {},
          "execution_count": 13
        }
      ]
    },
    {
      "cell_type": "markdown",
      "source": [
        "# **4) EDA (Exploratory Data Analysis)**"
      ],
      "metadata": {
        "id": "uhwmQwXJgC0W"
      }
    },
    {
      "cell_type": "markdown",
      "source": [
        "**1) Statistical Measures**"
      ],
      "metadata": {
        "id": "XDo4vZc_gRm_"
      }
    },
    {
      "cell_type": "code",
      "source": [
        "data.describe()"
      ],
      "metadata": {
        "colab": {
          "base_uri": "https://localhost:8080/",
          "height": 300
        },
        "id": "MRW7wfKOftMr",
        "outputId": "0011a6ad-921b-4cbc-a7c5-ebdf5fca5d33"
      },
      "execution_count": 14,
      "outputs": [
        {
          "output_type": "execute_result",
          "data": {
            "text/plain": [
              "              Year  Selling_Price  Present_Price     Kms_Driven   Fuel_Type  \\\n",
              "count   299.000000     299.000000     299.000000     299.000000  299.000000   \n",
              "mean   2013.615385       4.589632       7.541037   36916.752508    1.792642   \n",
              "std       2.896868       4.984240       8.567887   39015.170352    0.422297   \n",
              "min    2003.000000       0.100000       0.320000     500.000000    0.000000   \n",
              "25%    2012.000000       0.850000       1.200000   15000.000000    2.000000   \n",
              "50%    2014.000000       3.510000       6.100000   32000.000000    2.000000   \n",
              "75%    2016.000000       6.000000       9.840000   48883.500000    2.000000   \n",
              "max    2018.000000      35.000000      92.600000  500000.000000    2.000000   \n",
              "\n",
              "       Seller_Type  Transmission       Owner  \n",
              "count   299.000000    299.000000  299.000000  \n",
              "mean      0.354515      0.869565    0.043478  \n",
              "std       0.479168      0.337346    0.248720  \n",
              "min       0.000000      0.000000    0.000000  \n",
              "25%       0.000000      1.000000    0.000000  \n",
              "50%       0.000000      1.000000    0.000000  \n",
              "75%       1.000000      1.000000    0.000000  \n",
              "max       1.000000      1.000000    3.000000  "
            ],
            "text/html": [
              "\n",
              "  <div id=\"df-f41d4b30-1b3d-4438-bd85-257091f22a3a\">\n",
              "    <div class=\"colab-df-container\">\n",
              "      <div>\n",
              "<style scoped>\n",
              "    .dataframe tbody tr th:only-of-type {\n",
              "        vertical-align: middle;\n",
              "    }\n",
              "\n",
              "    .dataframe tbody tr th {\n",
              "        vertical-align: top;\n",
              "    }\n",
              "\n",
              "    .dataframe thead th {\n",
              "        text-align: right;\n",
              "    }\n",
              "</style>\n",
              "<table border=\"1\" class=\"dataframe\">\n",
              "  <thead>\n",
              "    <tr style=\"text-align: right;\">\n",
              "      <th></th>\n",
              "      <th>Year</th>\n",
              "      <th>Selling_Price</th>\n",
              "      <th>Present_Price</th>\n",
              "      <th>Kms_Driven</th>\n",
              "      <th>Fuel_Type</th>\n",
              "      <th>Seller_Type</th>\n",
              "      <th>Transmission</th>\n",
              "      <th>Owner</th>\n",
              "    </tr>\n",
              "  </thead>\n",
              "  <tbody>\n",
              "    <tr>\n",
              "      <th>count</th>\n",
              "      <td>299.000000</td>\n",
              "      <td>299.000000</td>\n",
              "      <td>299.000000</td>\n",
              "      <td>299.000000</td>\n",
              "      <td>299.000000</td>\n",
              "      <td>299.000000</td>\n",
              "      <td>299.000000</td>\n",
              "      <td>299.000000</td>\n",
              "    </tr>\n",
              "    <tr>\n",
              "      <th>mean</th>\n",
              "      <td>2013.615385</td>\n",
              "      <td>4.589632</td>\n",
              "      <td>7.541037</td>\n",
              "      <td>36916.752508</td>\n",
              "      <td>1.792642</td>\n",
              "      <td>0.354515</td>\n",
              "      <td>0.869565</td>\n",
              "      <td>0.043478</td>\n",
              "    </tr>\n",
              "    <tr>\n",
              "      <th>std</th>\n",
              "      <td>2.896868</td>\n",
              "      <td>4.984240</td>\n",
              "      <td>8.567887</td>\n",
              "      <td>39015.170352</td>\n",
              "      <td>0.422297</td>\n",
              "      <td>0.479168</td>\n",
              "      <td>0.337346</td>\n",
              "      <td>0.248720</td>\n",
              "    </tr>\n",
              "    <tr>\n",
              "      <th>min</th>\n",
              "      <td>2003.000000</td>\n",
              "      <td>0.100000</td>\n",
              "      <td>0.320000</td>\n",
              "      <td>500.000000</td>\n",
              "      <td>0.000000</td>\n",
              "      <td>0.000000</td>\n",
              "      <td>0.000000</td>\n",
              "      <td>0.000000</td>\n",
              "    </tr>\n",
              "    <tr>\n",
              "      <th>25%</th>\n",
              "      <td>2012.000000</td>\n",
              "      <td>0.850000</td>\n",
              "      <td>1.200000</td>\n",
              "      <td>15000.000000</td>\n",
              "      <td>2.000000</td>\n",
              "      <td>0.000000</td>\n",
              "      <td>1.000000</td>\n",
              "      <td>0.000000</td>\n",
              "    </tr>\n",
              "    <tr>\n",
              "      <th>50%</th>\n",
              "      <td>2014.000000</td>\n",
              "      <td>3.510000</td>\n",
              "      <td>6.100000</td>\n",
              "      <td>32000.000000</td>\n",
              "      <td>2.000000</td>\n",
              "      <td>0.000000</td>\n",
              "      <td>1.000000</td>\n",
              "      <td>0.000000</td>\n",
              "    </tr>\n",
              "    <tr>\n",
              "      <th>75%</th>\n",
              "      <td>2016.000000</td>\n",
              "      <td>6.000000</td>\n",
              "      <td>9.840000</td>\n",
              "      <td>48883.500000</td>\n",
              "      <td>2.000000</td>\n",
              "      <td>1.000000</td>\n",
              "      <td>1.000000</td>\n",
              "      <td>0.000000</td>\n",
              "    </tr>\n",
              "    <tr>\n",
              "      <th>max</th>\n",
              "      <td>2018.000000</td>\n",
              "      <td>35.000000</td>\n",
              "      <td>92.600000</td>\n",
              "      <td>500000.000000</td>\n",
              "      <td>2.000000</td>\n",
              "      <td>1.000000</td>\n",
              "      <td>1.000000</td>\n",
              "      <td>3.000000</td>\n",
              "    </tr>\n",
              "  </tbody>\n",
              "</table>\n",
              "</div>\n",
              "      <button class=\"colab-df-convert\" onclick=\"convertToInteractive('df-f41d4b30-1b3d-4438-bd85-257091f22a3a')\"\n",
              "              title=\"Convert this dataframe to an interactive table.\"\n",
              "              style=\"display:none;\">\n",
              "        \n",
              "  <svg xmlns=\"http://www.w3.org/2000/svg\" height=\"24px\"viewBox=\"0 0 24 24\"\n",
              "       width=\"24px\">\n",
              "    <path d=\"M0 0h24v24H0V0z\" fill=\"none\"/>\n",
              "    <path d=\"M18.56 5.44l.94 2.06.94-2.06 2.06-.94-2.06-.94-.94-2.06-.94 2.06-2.06.94zm-11 1L8.5 8.5l.94-2.06 2.06-.94-2.06-.94L8.5 2.5l-.94 2.06-2.06.94zm10 10l.94 2.06.94-2.06 2.06-.94-2.06-.94-.94-2.06-.94 2.06-2.06.94z\"/><path d=\"M17.41 7.96l-1.37-1.37c-.4-.4-.92-.59-1.43-.59-.52 0-1.04.2-1.43.59L10.3 9.45l-7.72 7.72c-.78.78-.78 2.05 0 2.83L4 21.41c.39.39.9.59 1.41.59.51 0 1.02-.2 1.41-.59l7.78-7.78 2.81-2.81c.8-.78.8-2.07 0-2.86zM5.41 20L4 18.59l7.72-7.72 1.47 1.35L5.41 20z\"/>\n",
              "  </svg>\n",
              "      </button>\n",
              "      \n",
              "  <style>\n",
              "    .colab-df-container {\n",
              "      display:flex;\n",
              "      flex-wrap:wrap;\n",
              "      gap: 12px;\n",
              "    }\n",
              "\n",
              "    .colab-df-convert {\n",
              "      background-color: #E8F0FE;\n",
              "      border: none;\n",
              "      border-radius: 50%;\n",
              "      cursor: pointer;\n",
              "      display: none;\n",
              "      fill: #1967D2;\n",
              "      height: 32px;\n",
              "      padding: 0 0 0 0;\n",
              "      width: 32px;\n",
              "    }\n",
              "\n",
              "    .colab-df-convert:hover {\n",
              "      background-color: #E2EBFA;\n",
              "      box-shadow: 0px 1px 2px rgba(60, 64, 67, 0.3), 0px 1px 3px 1px rgba(60, 64, 67, 0.15);\n",
              "      fill: #174EA6;\n",
              "    }\n",
              "\n",
              "    [theme=dark] .colab-df-convert {\n",
              "      background-color: #3B4455;\n",
              "      fill: #D2E3FC;\n",
              "    }\n",
              "\n",
              "    [theme=dark] .colab-df-convert:hover {\n",
              "      background-color: #434B5C;\n",
              "      box-shadow: 0px 1px 3px 1px rgba(0, 0, 0, 0.15);\n",
              "      filter: drop-shadow(0px 1px 2px rgba(0, 0, 0, 0.3));\n",
              "      fill: #FFFFFF;\n",
              "    }\n",
              "  </style>\n",
              "\n",
              "      <script>\n",
              "        const buttonEl =\n",
              "          document.querySelector('#df-f41d4b30-1b3d-4438-bd85-257091f22a3a button.colab-df-convert');\n",
              "        buttonEl.style.display =\n",
              "          google.colab.kernel.accessAllowed ? 'block' : 'none';\n",
              "\n",
              "        async function convertToInteractive(key) {\n",
              "          const element = document.querySelector('#df-f41d4b30-1b3d-4438-bd85-257091f22a3a');\n",
              "          const dataTable =\n",
              "            await google.colab.kernel.invokeFunction('convertToInteractive',\n",
              "                                                     [key], {});\n",
              "          if (!dataTable) return;\n",
              "\n",
              "          const docLinkHtml = 'Like what you see? Visit the ' +\n",
              "            '<a target=\"_blank\" href=https://colab.research.google.com/notebooks/data_table.ipynb>data table notebook</a>'\n",
              "            + ' to learn more about interactive tables.';\n",
              "          element.innerHTML = '';\n",
              "          dataTable['output_type'] = 'display_data';\n",
              "          await google.colab.output.renderOutput(dataTable, element);\n",
              "          const docLink = document.createElement('div');\n",
              "          docLink.innerHTML = docLinkHtml;\n",
              "          element.appendChild(docLink);\n",
              "        }\n",
              "      </script>\n",
              "    </div>\n",
              "  </div>\n",
              "  "
            ]
          },
          "metadata": {},
          "execution_count": 14
        }
      ]
    },
    {
      "cell_type": "markdown",
      "source": [
        "**2) Data Visualization**"
      ],
      "metadata": {
        "id": "FGkhv79TgZao"
      }
    },
    {
      "cell_type": "code",
      "source": [
        "sns.distplot(data[\"Selling_Price\"])"
      ],
      "metadata": {
        "colab": {
          "base_uri": "https://localhost:8080/",
          "height": 297
        },
        "id": "r_8o3XqogUqi",
        "outputId": "410ec13b-0e63-4ccb-9752-8fda3258394b"
      },
      "execution_count": 15,
      "outputs": [
        {
          "output_type": "execute_result",
          "data": {
            "text/plain": [
              "<matplotlib.axes._subplots.AxesSubplot at 0x7fbb60fa7ee0>"
            ]
          },
          "metadata": {},
          "execution_count": 15
        },
        {
          "output_type": "display_data",
          "data": {
            "text/plain": [
              "<Figure size 432x288 with 1 Axes>"
            ],
            "image/png": "[encoded data removed]"
          },
          "metadata": {
            "needs_background": "light"
          }
        }
      ]
    },
    {
      "cell_type": "code",
      "source": [
        "sns.distplot(data[\"Present_Price\"])"
      ],
      "metadata": {
        "colab": {
          "base_uri": "https://localhost:8080/",
          "height": 297
        },
        "id": "-e8r-5BQgfQt",
        "outputId": "057c80c2-9835-43c4-b7e6-3f0edf8b9877"
      },
      "execution_count": 16,
      "outputs": [
        {
          "output_type": "execute_result",
          "data": {
            "text/plain": [
              "<matplotlib.axes._subplots.AxesSubplot at 0x7fbb61126760>"
            ]
          },
          "metadata": {},
          "execution_count": 16
        },
        {
          "output_type": "display_data",
          "data": {
            "text/plain": [
              "<Figure size 432x288 with 1 Axes>"
            ],
            "image/png": "[encoded data removed]"
          },
          "metadata": {
            "needs_background": "light"
          }
        }
      ]
    },
    {
      "cell_type": "code",
      "source": [
        "sns.distplot(data[\"Kms_Driven\"])"
      ],
      "metadata": {
        "colab": {
          "base_uri": "https://localhost:8080/",
          "height": 308
        },
        "id": "r_oZpuv1gl4v",
        "outputId": "0b7d7074-5bd1-457a-a3a0-d6546750f425"
      },
      "execution_count": 17,
      "outputs": [
        {
          "output_type": "execute_result",
          "data": {
            "text/plain": [
              "<matplotlib.axes._subplots.AxesSubplot at 0x7fbb6112c640>"
            ]
          },
          "metadata": {},
          "execution_count": 17
        },
        {
          "output_type": "display_data",
          "data": {
            "text/plain": [
              "<Figure size 432x288 with 1 Axes>"
            ],
            "image/png": "[encoded data removed]"
          },
          "metadata": {
            "needs_background": "light"
          }
        }
      ]
    },
    {
      "cell_type": "code",
      "source": [
        "sns.distplot(data[\"Fuel_Type\"])"
      ],
      "metadata": {
        "colab": {
          "base_uri": "https://localhost:8080/",
          "height": 297
        },
        "id": "Hd3FabnFgueS",
        "outputId": "5b0b9ed8-d58f-4281-a1fe-7981785e8443"
      },
      "execution_count": 18,
      "outputs": [
        {
          "output_type": "execute_result",
          "data": {
            "text/plain": [
              "<matplotlib.axes._subplots.AxesSubplot at 0x7fbb61055f70>"
            ]
          },
          "metadata": {},
          "execution_count": 18
        },
        {
          "output_type": "display_data",
          "data": {
            "text/plain": [
              "<Figure size 432x288 with 1 Axes>"
            ],
            "image/png": "[encoded data removed]"
          },
          "metadata": {
            "needs_background": "light"
          }
        }
      ]
    },
    {
      "cell_type": "code",
      "source": [
        "sns.distplot(data[\"Seller_Type\"])"
      ],
      "metadata": {
        "colab": {
          "base_uri": "https://localhost:8080/",
          "height": 297
        },
        "id": "ue1OwAm7g3mx",
        "outputId": "b759b712-7142-48a1-f14d-36394c17067d"
      },
      "execution_count": 19,
      "outputs": [
        {
          "output_type": "execute_result",
          "data": {
            "text/plain": [
              "<matplotlib.axes._subplots.AxesSubplot at 0x7fbb5e8e61f0>"
            ]
          },
          "metadata": {},
          "execution_count": 19
        },
        {
          "output_type": "display_data",
          "data": {
            "text/plain": [
              "<Figure size 432x288 with 1 Axes>"
            ],
            "image/png": "[encoded data removed]"
          },
          "metadata": {
            "needs_background": "light"
          }
        }
      ]
    },
    {
      "cell_type": "code",
      "source": [
        "sns.distplot(data[\"Transmission\"])"
      ],
      "metadata": {
        "colab": {
          "base_uri": "https://localhost:8080/",
          "height": 296
        },
        "id": "JT1L8l18g-nw",
        "outputId": "d3989b79-4a87-47a3-9338-69a44dacd265"
      },
      "execution_count": 20,
      "outputs": [
        {
          "output_type": "execute_result",
          "data": {
            "text/plain": [
              "<matplotlib.axes._subplots.AxesSubplot at 0x7fbb5e8a8c70>"
            ]
          },
          "metadata": {},
          "execution_count": 20
        },
        {
          "output_type": "display_data",
          "data": {
            "text/plain": [
              "<Figure size 432x288 with 1 Axes>"
            ],
            "image/png": "[encoded data removed]"
          },
          "metadata": {
            "needs_background": "light"
          }
        }
      ]
    },
    {
      "cell_type": "code",
      "source": [
        "sns.distplot(data[\"Owner\"])"
      ],
      "metadata": {
        "colab": {
          "base_uri": "https://localhost:8080/",
          "height": 296
        },
        "id": "QGlBfmuwhHLV",
        "outputId": "81ae9005-17c5-44f0-db4a-00b65b209ac5"
      },
      "execution_count": 21,
      "outputs": [
        {
          "output_type": "execute_result",
          "data": {
            "text/plain": [
              "<matplotlib.axes._subplots.AxesSubplot at 0x7fbb5e7e9c10>"
            ]
          },
          "metadata": {},
          "execution_count": 21
        },
        {
          "output_type": "display_data",
          "data": {
            "text/plain": [
              "<Figure size 432x288 with 1 Axes>"
            ],
            "image/png": "[encoded data removed]"
          },
          "metadata": {
            "needs_background": "light"
          }
        }
      ]
    },
    {
      "cell_type": "code",
      "source": [
        "data.head()"
      ],
      "metadata": {
        "colab": {
          "base_uri": "https://localhost:8080/",
          "height": 206
        },
        "id": "TzSg1LWkh06l",
        "outputId": "d4e97ba5-b89c-4df1-ceb9-4cb692f09a01"
      },
      "execution_count": 22,
      "outputs": [
        {
          "output_type": "execute_result",
          "data": {
            "text/plain": [
              "   Year  Selling_Price  Present_Price  Kms_Driven  Fuel_Type  Seller_Type  \\\n",
              "0  2014           3.35           5.59       27000          2            0   \n",
              "1  2013           4.75           9.54       43000          1            0   \n",
              "2  2017           7.25           9.85        6900          2            0   \n",
              "3  2011           2.85           4.15        5200          2            0   \n",
              "4  2014           4.60           6.87       42450          1            0   \n",
              "\n",
              "   Transmission  Owner  \n",
              "0             1      0  \n",
              "1             1      0  \n",
              "2             1      0  \n",
              "3             1      0  \n",
              "4             1      0  "
            ],
            "text/html": [
              "\n",
              "  <div id=\"df-60568546-09bb-4667-97ab-1f91bb7140ab\">\n",
              "    <div class=\"colab-df-container\">\n",
              "      <div>\n",
              "<style scoped>\n",
              "    .dataframe tbody tr th:only-of-type {\n",
              "        vertical-align: middle;\n",
              "    }\n",
              "\n",
              "    .dataframe tbody tr th {\n",
              "        vertical-align: top;\n",
              "    }\n",
              "\n",
              "    .dataframe thead th {\n",
              "        text-align: right;\n",
              "    }\n",
              "</style>\n",
              "<table border=\"1\" class=\"dataframe\">\n",
              "  <thead>\n",
              "    <tr style=\"text-align: right;\">\n",
              "      <th></th>\n",
              "      <th>Year</th>\n",
              "      <th>Selling_Price</th>\n",
              "      <th>Present_Price</th>\n",
              "      <th>Kms_Driven</th>\n",
              "      <th>Fuel_Type</th>\n",
              "      <th>Seller_Type</th>\n",
              "      <th>Transmission</th>\n",
              "      <th>Owner</th>\n",
              "    </tr>\n",
              "  </thead>\n",
              "  <tbody>\n",
              "    <tr>\n",
              "      <th>0</th>\n",
              "      <td>2014</td>\n",
              "      <td>3.35</td>\n",
              "      <td>5.59</td>\n",
              "      <td>27000</td>\n",
              "      <td>2</td>\n",
              "      <td>0</td>\n",
              "      <td>1</td>\n",
              "      <td>0</td>\n",
              "    </tr>\n",
              "    <tr>\n",
              "      <th>1</th>\n",
              "      <td>2013</td>\n",
              "      <td>4.75</td>\n",
              "      <td>9.54</td>\n",
              "      <td>43000</td>\n",
              "      <td>1</td>\n",
              "      <td>0</td>\n",
              "      <td>1</td>\n",
              "      <td>0</td>\n",
              "    </tr>\n",
              "    <tr>\n",
              "      <th>2</th>\n",
              "      <td>2017</td>\n",
              "      <td>7.25</td>\n",
              "      <td>9.85</td>\n",
              "      <td>6900</td>\n",
              "      <td>2</td>\n",
              "      <td>0</td>\n",
              "      <td>1</td>\n",
              "      <td>0</td>\n",
              "    </tr>\n",
              "    <tr>\n",
              "      <th>3</th>\n",
              "      <td>2011</td>\n",
              "      <td>2.85</td>\n",
              "      <td>4.15</td>\n",
              "      <td>5200</td>\n",
              "      <td>2</td>\n",
              "      <td>0</td>\n",
              "      <td>1</td>\n",
              "      <td>0</td>\n",
              "    </tr>\n",
              "    <tr>\n",
              "      <th>4</th>\n",
              "      <td>2014</td>\n",
              "      <td>4.60</td>\n",
              "      <td>6.87</td>\n",
              "      <td>42450</td>\n",
              "      <td>1</td>\n",
              "      <td>0</td>\n",
              "      <td>1</td>\n",
              "      <td>0</td>\n",
              "    </tr>\n",
              "  </tbody>\n",
              "</table>\n",
              "</div>\n",
              "      <button class=\"colab-df-convert\" onclick=\"convertToInteractive('df-60568546-09bb-4667-97ab-1f91bb7140ab')\"\n",
              "              title=\"Convert this dataframe to an interactive table.\"\n",
              "              style=\"display:none;\">\n",
              "        \n",
              "  <svg xmlns=\"http://www.w3.org/2000/svg\" height=\"24px\"viewBox=\"0 0 24 24\"\n",
              "       width=\"24px\">\n",
              "    <path d=\"M0 0h24v24H0V0z\" fill=\"none\"/>\n",
              "    <path d=\"M18.56 5.44l.94 2.06.94-2.06 2.06-.94-2.06-.94-.94-2.06-.94 2.06-2.06.94zm-11 1L8.5 8.5l.94-2.06 2.06-.94-2.06-.94L8.5 2.5l-.94 2.06-2.06.94zm10 10l.94 2.06.94-2.06 2.06-.94-2.06-.94-.94-2.06-.94 2.06-2.06.94z\"/><path d=\"M17.41 7.96l-1.37-1.37c-.4-.4-.92-.59-1.43-.59-.52 0-1.04.2-1.43.59L10.3 9.45l-7.72 7.72c-.78.78-.78 2.05 0 2.83L4 21.41c.39.39.9.59 1.41.59.51 0 1.02-.2 1.41-.59l7.78-7.78 2.81-2.81c.8-.78.8-2.07 0-2.86zM5.41 20L4 18.59l7.72-7.72 1.47 1.35L5.41 20z\"/>\n",
              "  </svg>\n",
              "      </button>\n",
              "      \n",
              "  <style>\n",
              "    .colab-df-container {\n",
              "      display:flex;\n",
              "      flex-wrap:wrap;\n",
              "      gap: 12px;\n",
              "    }\n",
              "\n",
              "    .colab-df-convert {\n",
              "      background-color: #E8F0FE;\n",
              "      border: none;\n",
              "      border-radius: 50%;\n",
              "      cursor: pointer;\n",
              "      display: none;\n",
              "      fill: #1967D2;\n",
              "      height: 32px;\n",
              "      padding: 0 0 0 0;\n",
              "      width: 32px;\n",
              "    }\n",
              "\n",
              "    .colab-df-convert:hover {\n",
              "      background-color: #E2EBFA;\n",
              "      box-shadow: 0px 1px 2px rgba(60, 64, 67, 0.3), 0px 1px 3px 1px rgba(60, 64, 67, 0.15);\n",
              "      fill: #174EA6;\n",
              "    }\n",
              "\n",
              "    [theme=dark] .colab-df-convert {\n",
              "      background-color: #3B4455;\n",
              "      fill: #D2E3FC;\n",
              "    }\n",
              "\n",
              "    [theme=dark] .colab-df-convert:hover {\n",
              "      background-color: #434B5C;\n",
              "      box-shadow: 0px 1px 3px 1px rgba(0, 0, 0, 0.15);\n",
              "      filter: drop-shadow(0px 1px 2px rgba(0, 0, 0, 0.3));\n",
              "      fill: #FFFFFF;\n",
              "    }\n",
              "  </style>\n",
              "\n",
              "      <script>\n",
              "        const buttonEl =\n",
              "          document.querySelector('#df-60568546-09bb-4667-97ab-1f91bb7140ab button.colab-df-convert');\n",
              "        buttonEl.style.display =\n",
              "          google.colab.kernel.accessAllowed ? 'block' : 'none';\n",
              "\n",
              "        async function convertToInteractive(key) {\n",
              "          const element = document.querySelector('#df-60568546-09bb-4667-97ab-1f91bb7140ab');\n",
              "          const dataTable =\n",
              "            await google.colab.kernel.invokeFunction('convertToInteractive',\n",
              "                                                     [key], {});\n",
              "          if (!dataTable) return;\n",
              "\n",
              "          const docLinkHtml = 'Like what you see? Visit the ' +\n",
              "            '<a target=\"_blank\" href=https://colab.research.google.com/notebooks/data_table.ipynb>data table notebook</a>'\n",
              "            + ' to learn more about interactive tables.';\n",
              "          element.innerHTML = '';\n",
              "          dataTable['output_type'] = 'display_data';\n",
              "          await google.colab.output.renderOutput(dataTable, element);\n",
              "          const docLink = document.createElement('div');\n",
              "          docLink.innerHTML = docLinkHtml;\n",
              "          element.appendChild(docLink);\n",
              "        }\n",
              "      </script>\n",
              "    </div>\n",
              "  </div>\n",
              "  "
            ]
          },
          "metadata": {},
          "execution_count": 22
        }
      ]
    },
    {
      "cell_type": "code",
      "source": [
        "data.plot(x=\"Selling_Price\",y=\"Present_Price\",style=\"o\")\n",
        "plt.title(\"Hours VS Scores\")\n",
        "plt.xlabel(\"Hours\")\n",
        "plt.ylabel(\"Scores\")\n",
        "plt.show()"
      ],
      "metadata": {
        "colab": {
          "base_uri": "https://localhost:8080/",
          "height": 295
        },
        "id": "XiO73U6AhMDf",
        "outputId": "b7ad89e8-6e7b-46c8-8185-8eaccc80f243"
      },
      "execution_count": 23,
      "outputs": [
        {
          "output_type": "display_data",
          "data": {
            "text/plain": [
              "<Figure size 432x288 with 1 Axes>"
            ],
            "image/png": "[encoded data removed]"
          },
          "metadata": {
            "needs_background": "light"
          }
        }
      ]
    },
    {
      "cell_type": "code",
      "source": [
        "data.corr()"
      ],
      "metadata": {
        "colab": {
          "base_uri": "https://localhost:8080/",
          "height": 300
        },
        "id": "pE-tHuICiAwI",
        "outputId": "306071a3-c253-4fc2-8245-859d15e74f15"
      },
      "execution_count": 24,
      "outputs": [
        {
          "output_type": "execute_result",
          "data": {
            "text/plain": [
              "                   Year  Selling_Price  Present_Price  Kms_Driven  Fuel_Type  \\\n",
              "Year           1.000000       0.234369      -0.053563   -0.525714  -0.046210   \n",
              "Selling_Price  0.234369       1.000000       0.876378    0.028566  -0.500292   \n",
              "Present_Price -0.053563       0.876378       1.000000    0.205253  -0.431809   \n",
              "Kms_Driven    -0.525714       0.028566       0.205253    1.000000  -0.167287   \n",
              "Fuel_Type     -0.046210      -0.500292      -0.431809   -0.167287   1.000000   \n",
              "Seller_Type   -0.036820      -0.553851      -0.511686   -0.101030   0.347922   \n",
              "Transmission   0.003434      -0.348869      -0.334265   -0.163881   0.068618   \n",
              "Owner         -0.181639      -0.087880       0.009947    0.089367   0.054174   \n",
              "\n",
              "               Seller_Type  Transmission     Owner  \n",
              "Year             -0.036820      0.003434 -0.181639  \n",
              "Selling_Price    -0.553851     -0.348869 -0.087880  \n",
              "Present_Price    -0.511686     -0.334265  0.009947  \n",
              "Kms_Driven       -0.101030     -0.163881  0.089367  \n",
              "Fuel_Type         0.347922      0.068618  0.054174  \n",
              "Seller_Type       1.000000      0.058669  0.123646  \n",
              "Transmission      0.058669      1.000000 -0.052166  \n",
              "Owner             0.123646     -0.052166  1.000000  "
            ],
            "text/html": [
              "\n",
              "  <div id=\"df-30d95a72-909c-4ce3-a4fd-9fa87a55361f\">\n",
              "    <div class=\"colab-df-container\">\n",
              "      <div>\n",
              "<style scoped>\n",
              "    .dataframe tbody tr th:only-of-type {\n",
              "        vertical-align: middle;\n",
              "    }\n",
              "\n",
              "    .dataframe tbody tr th {\n",
              "        vertical-align: top;\n",
              "    }\n",
              "\n",
              "    .dataframe thead th {\n",
              "        text-align: right;\n",
              "    }\n",
              "</style>\n",
              "<table border=\"1\" class=\"dataframe\">\n",
              "  <thead>\n",
              "    <tr style=\"text-align: right;\">\n",
              "      <th></th>\n",
              "      <th>Year</th>\n",
              "      <th>Selling_Price</th>\n",
              "      <th>Present_Price</th>\n",
              "      <th>Kms_Driven</th>\n",
              "      <th>Fuel_Type</th>\n",
              "      <th>Seller_Type</th>\n",
              "      <th>Transmission</th>\n",
              "      <th>Owner</th>\n",
              "    </tr>\n",
              "  </thead>\n",
              "  <tbody>\n",
              "    <tr>\n",
              "      <th>Year</th>\n",
              "      <td>1.000000</td>\n",
              "      <td>0.234369</td>\n",
              "      <td>-0.053563</td>\n",
              "      <td>-0.525714</td>\n",
              "      <td>-0.046210</td>\n",
              "      <td>-0.036820</td>\n",
              "      <td>0.003434</td>\n",
              "      <td>-0.181639</td>\n",
              "    </tr>\n",
              "    <tr>\n",
              "      <th>Selling_Price</th>\n",
              "      <td>0.234369</td>\n",
              "      <td>1.000000</td>\n",
              "      <td>0.876378</td>\n",
              "      <td>0.028566</td>\n",
              "      <td>-0.500292</td>\n",
              "      <td>-0.553851</td>\n",
              "      <td>-0.348869</td>\n",
              "      <td>-0.087880</td>\n",
              "    </tr>\n",
              "    <tr>\n",
              "      <th>Present_Price</th>\n",
              "      <td>-0.053563</td>\n",
              "      <td>0.876378</td>\n",
              "      <td>1.000000</td>\n",
              "      <td>0.205253</td>\n",
              "      <td>-0.431809</td>\n",
              "      <td>-0.511686</td>\n",
              "      <td>-0.334265</td>\n",
              "      <td>0.009947</td>\n",
              "    </tr>\n",
              "    <tr>\n",
              "      <th>Kms_Driven</th>\n",
              "      <td>-0.525714</td>\n",
              "      <td>0.028566</td>\n",
              "      <td>0.205253</td>\n",
              "      <td>1.000000</td>\n",
              "      <td>-0.167287</td>\n",
              "      <td>-0.101030</td>\n",
              "      <td>-0.163881</td>\n",
              "      <td>0.089367</td>\n",
              "    </tr>\n",
              "    <tr>\n",
              "      <th>Fuel_Type</th>\n",
              "      <td>-0.046210</td>\n",
              "      <td>-0.500292</td>\n",
              "      <td>-0.431809</td>\n",
              "      <td>-0.167287</td>\n",
              "      <td>1.000000</td>\n",
              "      <td>0.347922</td>\n",
              "      <td>0.068618</td>\n",
              "      <td>0.054174</td>\n",
              "    </tr>\n",
              "    <tr>\n",
              "      <th>Seller_Type</th>\n",
              "      <td>-0.036820</td>\n",
              "      <td>-0.553851</td>\n",
              "      <td>-0.511686</td>\n",
              "      <td>-0.101030</td>\n",
              "      <td>0.347922</td>\n",
              "      <td>1.000000</td>\n",
              "      <td>0.058669</td>\n",
              "      <td>0.123646</td>\n",
              "    </tr>\n",
              "    <tr>\n",
              "      <th>Transmission</th>\n",
              "      <td>0.003434</td>\n",
              "      <td>-0.348869</td>\n",
              "      <td>-0.334265</td>\n",
              "      <td>-0.163881</td>\n",
              "      <td>0.068618</td>\n",
              "      <td>0.058669</td>\n",
              "      <td>1.000000</td>\n",
              "      <td>-0.052166</td>\n",
              "    </tr>\n",
              "    <tr>\n",
              "      <th>Owner</th>\n",
              "      <td>-0.181639</td>\n",
              "      <td>-0.087880</td>\n",
              "      <td>0.009947</td>\n",
              "      <td>0.089367</td>\n",
              "      <td>0.054174</td>\n",
              "      <td>0.123646</td>\n",
              "      <td>-0.052166</td>\n",
              "      <td>1.000000</td>\n",
              "    </tr>\n",
              "  </tbody>\n",
              "</table>\n",
              "</div>\n",
              "      <button class=\"colab-df-convert\" onclick=\"convertToInteractive('df-30d95a72-909c-4ce3-a4fd-9fa87a55361f')\"\n",
              "              title=\"Convert this dataframe to an interactive table.\"\n",
              "              style=\"display:none;\">\n",
              "        \n",
              "  <svg xmlns=\"http://www.w3.org/2000/svg\" height=\"24px\"viewBox=\"0 0 24 24\"\n",
              "       width=\"24px\">\n",
              "    <path d=\"M0 0h24v24H0V0z\" fill=\"none\"/>\n",
              "    <path d=\"M18.56 5.44l.94 2.06.94-2.06 2.06-.94-2.06-.94-.94-2.06-.94 2.06-2.06.94zm-11 1L8.5 8.5l.94-2.06 2.06-.94-2.06-.94L8.5 2.5l-.94 2.06-2.06.94zm10 10l.94 2.06.94-2.06 2.06-.94-2.06-.94-.94-2.06-.94 2.06-2.06.94z\"/><path d=\"M17.41 7.96l-1.37-1.37c-.4-.4-.92-.59-1.43-.59-.52 0-1.04.2-1.43.59L10.3 9.45l-7.72 7.72c-.78.78-.78 2.05 0 2.83L4 21.41c.39.39.9.59 1.41.59.51 0 1.02-.2 1.41-.59l7.78-7.78 2.81-2.81c.8-.78.8-2.07 0-2.86zM5.41 20L4 18.59l7.72-7.72 1.47 1.35L5.41 20z\"/>\n",
              "  </svg>\n",
              "      </button>\n",
              "      \n",
              "  <style>\n",
              "    .colab-df-container {\n",
              "      display:flex;\n",
              "      flex-wrap:wrap;\n",
              "      gap: 12px;\n",
              "    }\n",
              "\n",
              "    .colab-df-convert {\n",
              "      background-color: #E8F0FE;\n",
              "      border: none;\n",
              "      border-radius: 50%;\n",
              "      cursor: pointer;\n",
              "      display: none;\n",
              "      fill: #1967D2;\n",
              "      height: 32px;\n",
              "      padding: 0 0 0 0;\n",
              "      width: 32px;\n",
              "    }\n",
              "\n",
              "    .colab-df-convert:hover {\n",
              "      background-color: #E2EBFA;\n",
              "      box-shadow: 0px 1px 2px rgba(60, 64, 67, 0.3), 0px 1px 3px 1px rgba(60, 64, 67, 0.15);\n",
              "      fill: #174EA6;\n",
              "    }\n",
              "\n",
              "    [theme=dark] .colab-df-convert {\n",
              "      background-color: #3B4455;\n",
              "      fill: #D2E3FC;\n",
              "    }\n",
              "\n",
              "    [theme=dark] .colab-df-convert:hover {\n",
              "      background-color: #434B5C;\n",
              "      box-shadow: 0px 1px 3px 1px rgba(0, 0, 0, 0.15);\n",
              "      filter: drop-shadow(0px 1px 2px rgba(0, 0, 0, 0.3));\n",
              "      fill: #FFFFFF;\n",
              "    }\n",
              "  </style>\n",
              "\n",
              "      <script>\n",
              "        const buttonEl =\n",
              "          document.querySelector('#df-30d95a72-909c-4ce3-a4fd-9fa87a55361f button.colab-df-convert');\n",
              "        buttonEl.style.display =\n",
              "          google.colab.kernel.accessAllowed ? 'block' : 'none';\n",
              "\n",
              "        async function convertToInteractive(key) {\n",
              "          const element = document.querySelector('#df-30d95a72-909c-4ce3-a4fd-9fa87a55361f');\n",
              "          const dataTable =\n",
              "            await google.colab.kernel.invokeFunction('convertToInteractive',\n",
              "                                                     [key], {});\n",
              "          if (!dataTable) return;\n",
              "\n",
              "          const docLinkHtml = 'Like what you see? Visit the ' +\n",
              "            '<a target=\"_blank\" href=https://colab.research.google.com/notebooks/data_table.ipynb>data table notebook</a>'\n",
              "            + ' to learn more about interactive tables.';\n",
              "          element.innerHTML = '';\n",
              "          dataTable['output_type'] = 'display_data';\n",
              "          await google.colab.output.renderOutput(dataTable, element);\n",
              "          const docLink = document.createElement('div');\n",
              "          docLink.innerHTML = docLinkHtml;\n",
              "          element.appendChild(docLink);\n",
              "        }\n",
              "      </script>\n",
              "    </div>\n",
              "  </div>\n",
              "  "
            ]
          },
          "metadata": {},
          "execution_count": 24
        }
      ]
    },
    {
      "cell_type": "code",
      "source": [
        "corr = data.corr()\n",
        "plt.figure(figsize=(15,10))\n",
        "sns.heatmap(corr,annot=True,cmap=\"coolwarm\")"
      ],
      "metadata": {
        "colab": {
          "base_uri": "https://localhost:8080/",
          "height": 613
        },
        "id": "3GSLEsyOiRN5",
        "outputId": "403ece12-5ef2-4f30-a1ed-b92a74f5c8a8"
      },
      "execution_count": 25,
      "outputs": [
        {
          "output_type": "execute_result",
          "data": {
            "text/plain": [
              "<matplotlib.axes._subplots.AxesSubplot at 0x7fbb5e6ac2e0>"
            ]
          },
          "metadata": {},
          "execution_count": 25
        },
        {
          "output_type": "display_data",
          "data": {
            "text/plain": [
              "<Figure size 1080x720 with 2 Axes>"
            ],
            "image/png": "[encoded data removed]"
          },
          "metadata": {
            "needs_background": "light"
          }
        }
      ]
    },
    {
      "cell_type": "markdown",
      "source": [
        "# **5) Train and Test Split :**"
      ],
      "metadata": {
        "id": "5KgDJOQHitkB"
      }
    },
    {
      "cell_type": "code",
      "source": [
        "X = data.drop(columns=\"Selling_Price\",axis=0)\n",
        "y = data[\"Selling_Price\"]"
      ],
      "metadata": {
        "id": "QkGD05hDiWB5"
      },
      "execution_count": 26,
      "outputs": []
    },
    {
      "cell_type": "code",
      "source": [
        "from sklearn.model_selection import train_test_split\n",
        "X_train,X_test,y_train,y_test = train_test_split(X,y,test_size=0.3)"
      ],
      "metadata": {
        "id": "Fz7XHY7Eizj4"
      },
      "execution_count": 27,
      "outputs": []
    },
    {
      "cell_type": "markdown",
      "source": [
        "# **6) Feature Scaling :**"
      ],
      "metadata": {
        "id": "9Zy92Im8i60W"
      }
    },
    {
      "cell_type": "code",
      "source": [
        "from sklearn.preprocessing import StandardScaler\n",
        "scaler = StandardScaler()\n",
        "scaler.fit_transform(X_train)\n",
        "scaler.transform(X_test)"
      ],
      "metadata": {
        "colab": {
          "base_uri": "https://localhost:8080/"
        },
        "id": "42jZk2Ywi3ZS",
        "outputId": "d24065dc-853f-4988-a02b-bc26e6d7140a"
      },
      "execution_count": 28,
      "outputs": [
        {
          "output_type": "execute_result",
          "data": {
            "text/plain": [
              "array([[-9.07281520e-01, -1.81373989e-01,  1.47712902e-01,\n",
              "         4.79671619e-01, -7.55928946e-01,  3.76930369e-01,\n",
              "        -1.99501867e-01],\n",
              "       [ 7.97950833e-01, -3.77542187e-01, -2.77121993e-01,\n",
              "         4.79671619e-01, -7.55928946e-01,  3.76930369e-01,\n",
              "        -1.99501867e-01],\n",
              "       [-2.25188579e-01, -1.60196740e-01, -6.35871461e-01,\n",
              "         4.79671619e-01, -7.55928946e-01,  3.76930369e-01,\n",
              "        -1.99501867e-01],\n",
              "       [-9.07281520e-01, -6.09980490e-02, -1.21254790e-01,\n",
              "         4.79671619e-01, -7.55928946e-01,  3.76930369e-01,\n",
              "        -1.99501867e-01],\n",
              "       [ 7.97950833e-01,  2.01214314e+00, -1.82714239e-01,\n",
              "        -1.96548371e+00, -7.55928946e-01, -2.65300990e+00,\n",
              "        -1.99501867e-01],\n",
              "       [ 1.13899730e+00,  1.38574241e+00, -5.13141380e-01,\n",
              "        -1.96548371e+00, -7.55928946e-01, -2.65300990e+00,\n",
              "        -1.99501867e-01],\n",
              "       [ 4.56904362e-01,  1.81379855e-02,  1.71314841e-01,\n",
              "         4.79671619e-01, -7.55928946e-01, -2.65300990e+00,\n",
              "        -1.99501867e-01],\n",
              "       [ 7.97950833e-01,  6.98039128e-01, -6.08021173e-01,\n",
              "         4.79671619e-01, -7.55928946e-01,  3.76930369e-01,\n",
              "        -1.99501867e-01],\n",
              "       [-2.25188579e-01, -7.30087648e-01, -4.89539441e-01,\n",
              "         4.79671619e-01,  1.32287566e+00,  3.76930369e-01,\n",
              "        -1.99501867e-01],\n",
              "       [ 4.56904362e-01,  2.29910472e-01, -1.75006681e-02,\n",
              "         4.79671619e-01, -7.55928946e-01,  3.76930369e-01,\n",
              "        -1.99501867e-01],\n",
              "       [ 7.97950833e-01, -7.20836534e-01, -5.13141380e-01,\n",
              "         4.79671619e-01,  1.32287566e+00,  3.76930369e-01,\n",
              "        -1.99501867e-01],\n",
              "       [ 1.15857892e-01,  2.92839059e-02,  9.65095242e-01,\n",
              "        -1.96548371e+00, -7.55928946e-01,  3.76930369e-01,\n",
              "        -1.99501867e-01],\n",
              "       [ 7.97950833e-01,  2.92839059e-02, -7.01956889e-01,\n",
              "         4.79671619e-01, -7.55928946e-01,  3.76930369e-01,\n",
              "        -1.99501867e-01],\n",
              "       [ 1.13899730e+00,  8.50135077e-02, -7.86097801e-01,\n",
              "         4.79671619e-01, -7.55928946e-01,  3.76930369e-01,\n",
              "        -1.99501867e-01],\n",
              "       [ 4.56904362e-01, -7.56503480e-01, -7.09037471e-01,\n",
              "         4.79671619e-01,  1.32287566e+00,  3.76930369e-01,\n",
              "        -1.99501867e-01],\n",
              "       [-9.07281520e-01,  4.48881944e-02,  3.12879269e-01,\n",
              "        -4.41063903e+00, -7.55928946e-01,  3.76930369e-01,\n",
              "        -1.99501867e-01],\n",
              "       [-5.66235049e-01,  2.59396018e+00,  1.60411773e+00,\n",
              "        -1.96548371e+00, -7.55928946e-01, -2.65300990e+00,\n",
              "        -1.99501867e-01],\n",
              "       [-2.25188579e-01, -6.53961012e-01, -8.83064841e-02,\n",
              "         4.79671619e-01,  1.32287566e+00,  3.76930369e-01,\n",
              "        -1.99501867e-01],\n",
              "       [-1.24832799e+00, -7.59847256e-01, -3.47927809e-01,\n",
              "         4.79671619e-01,  1.32287566e+00, -2.65300990e+00,\n",
              "        -1.99501867e-01],\n",
              "       [ 1.13899730e+00,  1.25979351e+00, -6.61833593e-01,\n",
              "         4.79671619e-01, -7.55928946e-01,  3.76930369e-01,\n",
              "        -1.99501867e-01],\n",
              "       [ 7.97950833e-01, -7.28638679e-01, -3.95131687e-01,\n",
              "         4.79671619e-01,  1.32287566e+00,  3.76930369e-01,\n",
              "        -1.99501867e-01],\n",
              "       [-2.25188579e-01,  2.85640074e-01,  4.13045897e-01,\n",
              "         4.79671619e-01, -7.55928946e-01,  3.76930369e-01,\n",
              "        -1.99501867e-01],\n",
              "       [ 1.13899730e+00, -6.14950291e-01, -8.34127746e-01,\n",
              "         4.79671619e-01,  1.32287566e+00,  3.76930369e-01,\n",
              "        -1.99501867e-01],\n",
              "       [ 1.13899730e+00, -1.71342661e-01, -4.18733625e-01,\n",
              "         4.79671619e-01, -7.55928946e-01,  3.76930369e-01,\n",
              "        -1.99501867e-01],\n",
              "       [-2.25188579e-01, -1.43477860e-01,  2.42120657e-01,\n",
              "         4.79671619e-01, -7.55928946e-01,  3.76930369e-01,\n",
              "        -1.99501867e-01],\n",
              "       [-2.25188579e-01, -7.45357559e-01, -3.00723932e-01,\n",
              "         4.79671619e-01,  1.32287566e+00,  3.76930369e-01,\n",
              "         5.01248441e+00],\n",
              "       [-1.58937446e+00,  4.08245198e-01,  1.20824241e+00,\n",
              "         4.79671619e-01, -7.55928946e-01,  3.76930369e-01,\n",
              "        -1.99501867e-01],\n",
              "       [ 7.97950833e-01,  6.98039128e-01, -1.90583961e-02,\n",
              "        -1.96548371e+00, -7.55928946e-01,  3.76930369e-01,\n",
              "        -1.99501867e-01],\n",
              "       [ 7.97950833e-01, -7.13034390e-01, -3.00723932e-01,\n",
              "         4.79671619e-01,  1.32287566e+00,  3.76930369e-01,\n",
              "        -1.99501867e-01],\n",
              "       [ 4.56904362e-01, -1.82488581e-01, -2.01595790e-01,\n",
              "         4.79671619e-01, -7.55928946e-01,  3.76930369e-01,\n",
              "        -1.99501867e-01],\n",
              "       [-5.66235049e-01,  2.59396018e+00,  1.23340208e+00,\n",
              "        -1.96548371e+00, -7.55928946e-01, -2.65300990e+00,\n",
              "        -1.99501867e-01],\n",
              "       [ 1.15857892e-01,  1.77524647e-01,  1.09179045e+00,\n",
              "        -1.96548371e+00, -7.55928946e-01,  3.76930369e-01,\n",
              "        -1.99501867e-01],\n",
              "       [ 1.15857892e-01, -7.07461430e-01, -2.77121993e-01,\n",
              "         4.79671619e-01,  1.32287566e+00,  3.76930369e-01,\n",
              "        -1.99501867e-01],\n",
              "       [-1.24832799e+00, -3.77542187e-01,  1.84107092e-01,\n",
              "         4.79671619e-01, -7.55928946e-01,  3.76930369e-01,\n",
              "        -1.99501867e-01],\n",
              "       [ 4.56904362e-01,  6.98039128e-01,  7.37761369e-01,\n",
              "        -1.96548371e+00, -7.55928946e-01,  3.76930369e-01,\n",
              "        -1.99501867e-01],\n",
              "       [ 4.56904362e-01,  6.98039128e-01, -3.53120236e-01,\n",
              "         4.79671619e-01, -7.55928946e-01,  3.76930369e-01,\n",
              "        -1.99501867e-01],\n",
              "       [ 4.56904362e-01, -1.37904900e-01, -1.25432334e-01,\n",
              "         4.79671619e-01, -7.55928946e-01,  3.76930369e-01,\n",
              "        -1.99501867e-01],\n",
              "       [ 1.15857892e-01, -7.30087648e-01, -5.13141380e-01,\n",
              "         4.79671619e-01,  1.32287566e+00,  3.76930369e-01,\n",
              "        -1.99501867e-01],\n",
              "       [ 7.97950833e-01,  3.84838765e-01,  1.47712902e-01,\n",
              "        -1.96548371e+00, -7.55928946e-01,  3.76930369e-01,\n",
              "        -1.99501867e-01],\n",
              "       [-1.93042093e+00, -7.34211639e-01,  5.48945860e-01,\n",
              "         4.79671619e-01,  1.32287566e+00,  3.76930369e-01,\n",
              "        -1.99501867e-01],\n",
              "       [ 7.97950833e-01,  6.98039128e-01, -3.32090908e-01,\n",
              "         4.79671619e-01, -7.55928946e-01,  3.76930369e-01,\n",
              "        -1.99501867e-01],\n",
              "       [-5.66235049e-01, -6.09980490e-02, -4.11026068e-02,\n",
              "         4.79671619e-01, -7.55928946e-01,  3.76930369e-01,\n",
              "        -1.99501867e-01],\n",
              "       [-1.24832799e+00,  1.46153467e+00,  3.13492920e-01,\n",
              "        -1.96548371e+00, -7.55928946e-01,  3.76930369e-01,\n",
              "        -1.99501867e-01],\n",
              "       [ 1.15857892e-01,  5.24162770e-01, -5.13141380e-01,\n",
              "         4.79671619e-01, -7.55928946e-01, -2.65300990e+00,\n",
              "        -1.99501867e-01],\n",
              "       [ 4.56904362e-01,  6.98039128e-01, -2.81842381e-01,\n",
              "         4.79671619e-01, -7.55928946e-01,  3.76930369e-01,\n",
              "        -1.99501867e-01],\n",
              "       [-9.07281520e-01, -7.11919798e-01, -3.00723932e-01,\n",
              "         4.79671619e-01,  1.32287566e+00,  3.76930369e-01,\n",
              "        -1.99501867e-01],\n",
              "       [ 4.56904362e-01, -7.24180310e-01, -3.24325871e-01,\n",
              "         4.79671619e-01,  1.32287566e+00,  3.76930369e-01,\n",
              "        -1.99501867e-01],\n",
              "       [ 4.56904362e-01,  8.30675580e-01, -5.62705451e-01,\n",
              "         4.79671619e-01, -7.55928946e-01, -2.65300990e+00,\n",
              "        -1.99501867e-01],\n",
              "       [-5.66235049e-01,  2.29910472e-01,  5.48945860e-01,\n",
              "        -1.96548371e+00, -7.55928946e-01,  3.76930369e-01,\n",
              "        -1.99501867e-01],\n",
              "       [-5.66235049e-01,  2.29910472e-01, -1.04308599e-01,\n",
              "        -1.96548371e+00, -7.55928946e-01,  3.76930369e-01,\n",
              "        -1.99501867e-01],\n",
              "       [ 4.56904362e-01, -7.24180310e-01,  5.01741982e-01,\n",
              "         4.79671619e-01,  1.32287566e+00,  3.76930369e-01,\n",
              "        -1.99501867e-01],\n",
              "       [ 7.97950833e-01,  1.18451269e-01, -7.72762705e-01,\n",
              "         4.79671619e-01, -7.55928946e-01,  3.76930369e-01,\n",
              "        -1.99501867e-01],\n",
              "       [ 4.56904362e-01,  2.96785995e-01, -2.15756953e-01,\n",
              "         4.79671619e-01, -7.55928946e-01,  3.76930369e-01,\n",
              "        -1.99501867e-01],\n",
              "       [ 7.97950833e-01, -3.24041770e-01, -5.13141380e-01,\n",
              "         4.79671619e-01, -7.55928946e-01,  3.76930369e-01,\n",
              "        -1.99501867e-01],\n",
              "       [-2.25188579e-01,  1.25644974e+00,  4.54561707e-01,\n",
              "         4.79671619e-01, -7.55928946e-01,  3.76930369e-01,\n",
              "        -1.99501867e-01],\n",
              "       [-5.66235049e-01, -6.09980490e-02,  3.63245806e-01,\n",
              "        -1.96548371e+00, -7.55928946e-01,  3.76930369e-01,\n",
              "        -1.99501867e-01],\n",
              "       [-2.25188579e-01,  1.25644974e+00,  7.69306884e-02,\n",
              "         4.79671619e-01, -7.55928946e-01,  3.76930369e-01,\n",
              "        -1.99501867e-01],\n",
              "       [ 4.56904362e-01, -7.11919798e-01, -4.75378278e-01,\n",
              "         4.79671619e-01,  1.32287566e+00,  3.76930369e-01,\n",
              "        -1.99501867e-01],\n",
              "       [ 1.13899730e+00, -7.11919798e-01, -8.36487940e-01,\n",
              "         4.79671619e-01,  1.32287566e+00,  3.76930369e-01,\n",
              "        -1.99501867e-01],\n",
              "       [ 1.13899730e+00,  1.76247452e+00, -6.07549135e-01,\n",
              "         4.79671619e-01, -7.55928946e-01, -2.65300990e+00,\n",
              "        -1.99501867e-01],\n",
              "       [-9.07281520e-01, -3.05093705e-01, -3.35725607e-01,\n",
              "         4.79671619e-01, -7.55928946e-01,  3.76930369e-01,\n",
              "        -1.99501867e-01],\n",
              "       [-2.25188579e-01,  2.59396018e+00,  2.31909126e+00,\n",
              "        -1.96548371e+00,  1.32287566e+00, -2.65300990e+00,\n",
              "        -1.99501867e-01],\n",
              "       [ 1.15857892e-01, -5.50303953e-01, -7.01956889e-01,\n",
              "         4.79671619e-01,  1.32287566e+00,  3.76930369e-01,\n",
              "        -1.99501867e-01],\n",
              "       [-1.24832799e+00,  1.81379855e-02,  5.77338992e-01,\n",
              "         4.79671619e-01, -7.55928946e-01,  3.76930369e-01,\n",
              "        -1.99501867e-01],\n",
              "       [ 1.13899730e+00, -7.24180310e-01, -7.49160767e-01,\n",
              "         4.79671619e-01,  1.32287566e+00,  3.76930369e-01,\n",
              "        -1.99501867e-01],\n",
              "       [-2.25188579e-01, -2.72770536e-01,  6.55909846e-01,\n",
              "         4.79671619e-01, -7.55928946e-01,  3.76930369e-01,\n",
              "        -1.99501867e-01],\n",
              "       [-2.25188579e-01, -1.63540516e-01,  4.34193234e-01,\n",
              "         4.79671619e-01, -7.55928946e-01,  3.76930369e-01,\n",
              "        -1.99501867e-01],\n",
              "       [-5.66235049e-01, -1.51280004e-01,  3.46889663e-01,\n",
              "        -1.96548371e+00, -7.55928946e-01,  3.76930369e-01,\n",
              "        -1.99501867e-01],\n",
              "       [-1.58937446e+00,  2.96785995e-01,  7.74627597e-01,\n",
              "         4.79671619e-01, -7.55928946e-01,  3.76930369e-01,\n",
              "        -1.99501867e-01],\n",
              "       [ 4.56904362e-01,  1.41857702e-01, -7.81812524e-02,\n",
              "        -1.96548371e+00, -7.55928946e-01,  3.76930369e-01,\n",
              "        -1.99501867e-01],\n",
              "       [-2.61251387e+00,  1.82712086e+00,  2.48430483e+00,\n",
              "         4.79671619e-01,  1.32287566e+00, -2.65300990e+00,\n",
              "         1.54364570e+01],\n",
              "       [ 1.13899730e+00, -7.60961848e-01, -7.65682124e-01,\n",
              "         4.79671619e-01,  1.32287566e+00, -2.65300990e+00,\n",
              "        -1.99501867e-01],\n",
              "       [-2.25188579e-01, -6.50617236e-01, -5.13141380e-01,\n",
              "         4.79671619e-01,  1.32287566e+00,  3.76930369e-01,\n",
              "        -1.99501867e-01],\n",
              "       [ 4.56904362e-01,  1.76410055e-01,  1.32772875e-01,\n",
              "        -1.96548371e+00, -7.55928946e-01,  3.76930369e-01,\n",
              "        -1.99501867e-01],\n",
              "       [ 7.97950833e-01, -3.24041770e-01, -5.72146227e-01,\n",
              "         4.79671619e-01, -7.55928946e-01,  3.76930369e-01,\n",
              "        -1.99501867e-01],\n",
              "       [-9.07281520e-01, -7.30087648e-01,  9.02974940e-01,\n",
              "         4.79671619e-01,  1.32287566e+00,  3.76930369e-01,\n",
              "        -1.99501867e-01],\n",
              "       [-9.07281520e-01, -3.24041770e-01,  4.78140044e-01,\n",
              "         4.79671619e-01, -7.55928946e-01,  3.76930369e-01,\n",
              "        -1.99501867e-01],\n",
              "       [-1.24832799e+00, -7.11919798e-01, -2.29918116e-01,\n",
              "         4.79671619e-01,  1.32287566e+00,  3.76930369e-01,\n",
              "        -1.99501867e-01],\n",
              "       [-3.63565328e+00, -5.63679057e-01,  2.13027575e+00,\n",
              "         4.79671619e-01,  1.32287566e+00,  3.76930369e-01,\n",
              "        -1.99501867e-01],\n",
              "       [ 1.13899730e+00, -7.60961848e-01, -8.36487940e-01,\n",
              "         4.79671619e-01,  1.32287566e+00, -2.65300990e+00,\n",
              "        -1.99501867e-01],\n",
              "       [ 1.13899730e+00, -4.16552909e-01, -8.16780321e-01,\n",
              "         4.79671619e-01, -7.55928946e-01,  3.76930369e-01,\n",
              "        -1.99501867e-01],\n",
              "       [ 1.15857892e-01, -4.32157197e-01,  2.01525323e-01,\n",
              "         4.79671619e-01, -7.55928946e-01,  3.76930369e-01,\n",
              "        -1.99501867e-01],\n",
              "       [-1.58937446e+00, -1.41851835e-02,  9.60256845e-01,\n",
              "         4.79671619e-01, -7.55928946e-01,  3.76930369e-01,\n",
              "        -1.99501867e-01],\n",
              "       [ 4.56904362e-01, -7.24180310e-01, -1.82714239e-01,\n",
              "         4.79671619e-01,  1.32287566e+00,  3.76930369e-01,\n",
              "        -1.99501867e-01],\n",
              "       [-2.25188579e-01, -7.65420216e-01, -3.71529748e-01,\n",
              "         4.79671619e-01,  1.32287566e+00,  3.76930369e-01,\n",
              "        -1.99501867e-01],\n",
              "       [ 1.13899730e+00, -1.81373989e-01, -8.10525807e-01,\n",
              "         4.79671619e-01, -7.55928946e-01,  3.76930369e-01,\n",
              "        -1.99501867e-01],\n",
              "       [-1.93042093e+00, -7.34211639e-01, -2.53520055e-01,\n",
              "         4.79671619e-01,  1.32287566e+00,  3.76930369e-01,\n",
              "         5.01248441e+00],\n",
              "       [-1.24832799e+00,  1.46153467e+00,  5.25343921e-01,\n",
              "        -1.96548371e+00, -7.55928946e-01,  3.76930369e-01,\n",
              "        -1.99501867e-01],\n",
              "       [ 1.15857892e-01,  9.75572544e-01,  5.07453652e-01,\n",
              "        -1.96548371e+00, -7.55928946e-01,  3.76930369e-01,\n",
              "        -1.99501867e-01],\n",
              "       [-1.24832799e+00,  2.85640074e-01,  2.97032092e-02,\n",
              "         4.79671619e-01, -7.55928946e-01,  3.76930369e-01,\n",
              "        -1.99501867e-01]])"
            ]
          },
          "metadata": {},
          "execution_count": 28
        }
      ]
    },
    {
      "cell_type": "markdown",
      "source": [
        "# **7) Build a Model :**"
      ],
      "metadata": {
        "id": "OoYXp7MHjEvH"
      }
    },
    {
      "cell_type": "markdown",
      "source": [
        "**1) Linear Regression :**"
      ],
      "metadata": {
        "id": "k-df3BCajIIO"
      }
    },
    {
      "cell_type": "code",
      "source": [
        "from sklearn.linear_model import LinearRegression\n",
        "LR = LinearRegression()\n",
        "LR.fit(X_train,y_train)"
      ],
      "metadata": {
        "colab": {
          "base_uri": "https://localhost:8080/"
        },
        "id": "MhJGoCrmjCB6",
        "outputId": "6e1283ba-e61a-4763-900d-413f48c9ba58"
      },
      "execution_count": 29,
      "outputs": [
        {
          "output_type": "execute_result",
          "data": {
            "text/plain": [
              "LinearRegression()"
            ]
          },
          "metadata": {},
          "execution_count": 29
        }
      ]
    },
    {
      "cell_type": "markdown",
      "source": [
        "**2) Lasso Regression**"
      ],
      "metadata": {
        "id": "8bfrbHbQ_xtn"
      }
    },
    {
      "cell_type": "code",
      "source": [
        "from sklearn.linear_model import Lasso\n",
        "LA = Lasso()\n",
        "LA.fit(X_train,y_train)"
      ],
      "metadata": {
        "colab": {
          "base_uri": "https://localhost:8080/"
        },
        "id": "UNaLE2EgjMMI",
        "outputId": "1a212268-b082-4883-c23b-20f209c0d60f"
      },
      "execution_count": 30,
      "outputs": [
        {
          "output_type": "execute_result",
          "data": {
            "text/plain": [
              "Lasso()"
            ]
          },
          "metadata": {},
          "execution_count": 30
        }
      ]
    },
    {
      "cell_type": "markdown",
      "source": [
        "**3) Ridge Regression**"
      ],
      "metadata": {
        "id": "HdYiSq9pAl5A"
      }
    },
    {
      "cell_type": "code",
      "source": [
        "from sklearn.linear_model import Ridge\n",
        "RI = Ridge()\n",
        "RI.fit(X_train,y_train)"
      ],
      "metadata": {
        "colab": {
          "base_uri": "https://localhost:8080/"
        },
        "id": "UVowgc0EAgQv",
        "outputId": "5aec4f02-d0b3-414a-b5cf-e407de7ab9e9"
      },
      "execution_count": 31,
      "outputs": [
        {
          "output_type": "execute_result",
          "data": {
            "text/plain": [
              "Ridge()"
            ]
          },
          "metadata": {},
          "execution_count": 31
        }
      ]
    },
    {
      "cell_type": "markdown",
      "source": [
        "# **8) Making Prediction :**"
      ],
      "metadata": {
        "id": "B2rgpSvBA4C3"
      }
    },
    {
      "cell_type": "markdown",
      "source": [
        "# y = m*X + c"
      ],
      "metadata": {
        "id": "ToY-cW3WA5kw"
      }
    },
    {
      "cell_type": "markdown",
      "source": [
        "**1) Linear Regression**"
      ],
      "metadata": {
        "id": "IoMmFrtsA9ln"
      }
    },
    {
      "cell_type": "code",
      "source": [
        "print(LR.intercept_) # c- Values\n",
        "print(LR.coef_) # m- Values"
      ],
      "metadata": {
        "colab": {
          "base_uri": "https://localhost:8080/"
        },
        "id": "0NZIwffkA0Dw",
        "outputId": "75924a34-c1bf-4978-fb94-2adec0b2dbe4"
      },
      "execution_count": 32,
      "outputs": [
        {
          "output_type": "stream",
          "name": "stdout",
          "text": [
            "-801.2903352633573\n",
            "[ 4.01095327e-01  4.24874966e-01 -4.62152922e-06 -1.79538710e+00\n",
            " -1.06953100e+00 -1.44215578e+00  3.50449166e-01]\n"
          ]
        }
      ]
    },
    {
      "cell_type": "code",
      "source": [
        "LR.predict([[2014,5.59,43000,1,0,1,0]])"
      ],
      "metadata": {
        "colab": {
          "base_uri": "https://localhost:8080/"
        },
        "id": "uSVKGo6IBau-",
        "outputId": "58a6bcb1-5c11-4e63-8ec0-9d4f44df2c69"
      },
      "execution_count": 33,
      "outputs": [
        {
          "output_type": "execute_result",
          "data": {
            "text/plain": [
              "array([5.45443545])"
            ]
          },
          "metadata": {},
          "execution_count": 33
        }
      ]
    },
    {
      "cell_type": "markdown",
      "source": [
        "**2) Lasso Regression**"
      ],
      "metadata": {
        "id": "fMpDP0WPBIKv"
      }
    },
    {
      "cell_type": "code",
      "source": [
        "print(LA.intercept_) # c- Values\n",
        "print(LA.coef_) # m- Values"
      ],
      "metadata": {
        "colab": {
          "base_uri": "https://localhost:8080/"
        },
        "id": "LLUm5ApLBFrz",
        "outputId": "9a06c538-1ab7-492d-da7c-4baec7719999"
      },
      "execution_count": 34,
      "outputs": [
        {
          "output_type": "stream",
          "name": "stdout",
          "text": [
            "-632.7942141981517\n",
            "[ 3.14763813e-01  4.88570277e-01 -4.56581760e-06 -0.00000000e+00\n",
            " -0.00000000e+00 -0.00000000e+00 -0.00000000e+00]\n"
          ]
        }
      ]
    },
    {
      "cell_type": "code",
      "source": [
        "LA.predict([[2014,5.59,43000,1,0,1,0]])"
      ],
      "metadata": {
        "colab": {
          "base_uri": "https://localhost:8080/"
        },
        "id": "cvMTe3sXBqgP",
        "outputId": "c41708ac-80d5-4318-ed8d-8b0570a6071d"
      },
      "execution_count": 35,
      "outputs": [
        {
          "output_type": "execute_result",
          "data": {
            "text/plain": [
              "array([3.67488234])"
            ]
          },
          "metadata": {},
          "execution_count": 35
        }
      ]
    },
    {
      "cell_type": "markdown",
      "source": [
        "**3) Ridge Regression**"
      ],
      "metadata": {
        "id": "WPfziR88BPT-"
      }
    },
    {
      "cell_type": "code",
      "source": [
        "print(RI.intercept_) # c- Values\n",
        "print(RI.coef_) # m- Values"
      ],
      "metadata": {
        "colab": {
          "base_uri": "https://localhost:8080/"
        },
        "id": "70IgJ2CsBNVN",
        "outputId": "8e0fd88e-7db6-409c-b561-7aef266fd7f4"
      },
      "execution_count": 36,
      "outputs": [
        {
          "output_type": "stream",
          "name": "stdout",
          "text": [
            "-805.1527230079915\n",
            "[ 4.02906764e-01  4.27328077e-01 -4.44334339e-06 -1.73135427e+00\n",
            " -1.04670003e+00 -1.36429721e+00  3.04558415e-01]\n"
          ]
        }
      ]
    },
    {
      "cell_type": "code",
      "source": [
        "RI.predict([[2014,5.59,43000,1,0,1,0]])"
      ],
      "metadata": {
        "colab": {
          "base_uri": "https://localhost:8080/"
        },
        "id": "-uhp3XK_BV3a",
        "outputId": "18f1b39a-0f6c-4f26-cf70-1208fd000ecf"
      },
      "execution_count": 37,
      "outputs": [
        {
          "output_type": "execute_result",
          "data": {
            "text/plain": [
              "array([5.40354855])"
            ]
          },
          "metadata": {},
          "execution_count": 37
        }
      ]
    },
    {
      "cell_type": "markdown",
      "source": [
        "# **9) Compare Actual Values and Predicted Values :**"
      ],
      "metadata": {
        "id": "1G2f_5hGB08Y"
      }
    },
    {
      "cell_type": "markdown",
      "source": [
        "**1) Linear Regression**"
      ],
      "metadata": {
        "id": "1_-z4U6ZB8eK"
      }
    },
    {
      "cell_type": "code",
      "source": [
        "y_pred_LR = LR.predict(X_test)\n",
        "y_pred_LR"
      ],
      "metadata": {
        "colab": {
          "base_uri": "https://localhost:8080/"
        },
        "id": "s5K3t44aBvST",
        "outputId": "ff87c5b4-04d4-411e-997a-6d6b5bf416a3"
      },
      "execution_count": 38,
      "outputs": [
        {
          "output_type": "execute_result",
          "data": {
            "text/plain": [
              "array([ 2.50674736,  3.84763158,  3.54309903,  3.01827927, 16.17600762,\n",
              "       14.25400704,  6.30918911,  8.01246884,  0.27252885,  5.711268  ,\n",
              "        1.51570098,  6.14838133,  5.48161273,  6.1116213 ,  1.01700436,\n",
              "        6.92767628, 16.43959152,  0.48415246,  0.37022786, 10.56547109,\n",
              "        1.46285209,  5.03720889,  2.38328032,  5.06247477,  3.43490939,\n",
              "        0.52779791,  3.74448148,  9.6925303 ,  1.50384847,  4.17527855,\n",
              "       16.51218188,  6.68865667,  0.71828003,  1.3507457 ,  9.14324102,\n",
              "        7.561461  ,  4.33031486,  0.67824571,  8.46597592, -1.95201544,\n",
              "        7.95843855,  3.40367989, 10.13123451,  7.97105047,  7.54750398,\n",
              "       -0.49737942,  1.06488717,  9.55025717,  6.19245242,  6.3203671 ,\n",
              "        0.90313365,  5.83537729,  6.00501382,  4.09778686,  8.72974058,\n",
              "        5.11989095,  8.80368504,  1.14120121,  2.01410126, 13.91318344,\n",
              "        2.12979893, 15.63115586,  1.40054126,  2.78205253,  1.95026535,\n",
              "        2.86102978,  3.32082189,  4.77894495,  3.40451325,  7.18288583,\n",
              "        9.1239585 ,  3.25544746,  0.58008623,  7.27328984,  4.10934068,\n",
              "       -0.80233203,  1.898206  , -0.91233933, -3.61707584,  3.26931205,\n",
              "        4.20569194,  2.74352758,  2.18276377,  1.037158  ,  0.11473584,\n",
              "        5.10095341, -1.44443428, 10.08975167,  9.84518124,  3.90898579])"
            ]
          },
          "metadata": {},
          "execution_count": 38
        }
      ]
    },
    {
      "cell_type": "code",
      "source": [
        "df = pd.DataFrame({\"Actual\":y_test,\"Predicted\":y_pred_LR})\n",
        "df"
      ],
      "metadata": {
        "colab": {
          "base_uri": "https://localhost:8080/",
          "height": 424
        },
        "id": "wXJRTTXQB4VR",
        "outputId": "0c3cb65d-06d1-4b9e-fda0-0df2e3426931"
      },
      "execution_count": 39,
      "outputs": [
        {
          "output_type": "execute_result",
          "data": {
            "text/plain": [
              "     Actual  Predicted\n",
              "73     2.65   2.506747\n",
              "20     2.85   3.847632\n",
              "284    3.50   3.543099\n",
              "213    2.90   3.018279\n",
              "96    20.75  16.176008\n",
              "..      ...        ...\n",
              "21     4.90   5.100953\n",
              "184    0.25  -1.444434\n",
              "67     9.25  10.089752\n",
              "91    11.25   9.845181\n",
              "293    3.25   3.908986\n",
              "\n",
              "[90 rows x 2 columns]"
            ],
            "text/html": [
              "\n",
              "  <div id=\"df-21216bb5-8081-4790-bc77-2c463f5dc8a1\">\n",
              "    <div class=\"colab-df-container\">\n",
              "      <div>\n",
              "<style scoped>\n",
              "    .dataframe tbody tr th:only-of-type {\n",
              "        vertical-align: middle;\n",
              "    }\n",
              "\n",
              "    .dataframe tbody tr th {\n",
              "        vertical-align: top;\n",
              "    }\n",
              "\n",
              "    .dataframe thead th {\n",
              "        text-align: right;\n",
              "    }\n",
              "</style>\n",
              "<table border=\"1\" class=\"dataframe\">\n",
              "  <thead>\n",
              "    <tr style=\"text-align: right;\">\n",
              "      <th></th>\n",
              "      <th>Actual</th>\n",
              "      <th>Predicted</th>\n",
              "    </tr>\n",
              "  </thead>\n",
              "  <tbody>\n",
              "    <tr>\n",
              "      <th>73</th>\n",
              "      <td>2.65</td>\n",
              "      <td>2.506747</td>\n",
              "    </tr>\n",
              "    <tr>\n",
              "      <th>20</th>\n",
              "      <td>2.85</td>\n",
              "      <td>3.847632</td>\n",
              "    </tr>\n",
              "    <tr>\n",
              "      <th>284</th>\n",
              "      <td>3.50</td>\n",
              "      <td>3.543099</td>\n",
              "    </tr>\n",
              "    <tr>\n",
              "      <th>213</th>\n",
              "      <td>2.90</td>\n",
              "      <td>3.018279</td>\n",
              "    </tr>\n",
              "    <tr>\n",
              "      <th>96</th>\n",
              "      <td>20.75</td>\n",
              "      <td>16.176008</td>\n",
              "    </tr>\n",
              "    <tr>\n",
              "      <th>...</th>\n",
              "      <td>...</td>\n",
              "      <td>...</td>\n",
              "    </tr>\n",
              "    <tr>\n",
              "      <th>21</th>\n",
              "      <td>4.90</td>\n",
              "      <td>5.100953</td>\n",
              "    </tr>\n",
              "    <tr>\n",
              "      <th>184</th>\n",
              "      <td>0.25</td>\n",
              "      <td>-1.444434</td>\n",
              "    </tr>\n",
              "    <tr>\n",
              "      <th>67</th>\n",
              "      <td>9.25</td>\n",
              "      <td>10.089752</td>\n",
              "    </tr>\n",
              "    <tr>\n",
              "      <th>91</th>\n",
              "      <td>11.25</td>\n",
              "      <td>9.845181</td>\n",
              "    </tr>\n",
              "    <tr>\n",
              "      <th>293</th>\n",
              "      <td>3.25</td>\n",
              "      <td>3.908986</td>\n",
              "    </tr>\n",
              "  </tbody>\n",
              "</table>\n",
              "<p>90 rows × 2 columns</p>\n",
              "</div>\n",
              "      <button class=\"colab-df-convert\" onclick=\"convertToInteractive('df-21216bb5-8081-4790-bc77-2c463f5dc8a1')\"\n",
              "              title=\"Convert this dataframe to an interactive table.\"\n",
              "              style=\"display:none;\">\n",
              "        \n",
              "  <svg xmlns=\"http://www.w3.org/2000/svg\" height=\"24px\"viewBox=\"0 0 24 24\"\n",
              "       width=\"24px\">\n",
              "    <path d=\"M0 0h24v24H0V0z\" fill=\"none\"/>\n",
              "    <path d=\"M18.56 5.44l.94 2.06.94-2.06 2.06-.94-2.06-.94-.94-2.06-.94 2.06-2.06.94zm-11 1L8.5 8.5l.94-2.06 2.06-.94-2.06-.94L8.5 2.5l-.94 2.06-2.06.94zm10 10l.94 2.06.94-2.06 2.06-.94-2.06-.94-.94-2.06-.94 2.06-2.06.94z\"/><path d=\"M17.41 7.96l-1.37-1.37c-.4-.4-.92-.59-1.43-.59-.52 0-1.04.2-1.43.59L10.3 9.45l-7.72 7.72c-.78.78-.78 2.05 0 2.83L4 21.41c.39.39.9.59 1.41.59.51 0 1.02-.2 1.41-.59l7.78-7.78 2.81-2.81c.8-.78.8-2.07 0-2.86zM5.41 20L4 18.59l7.72-7.72 1.47 1.35L5.41 20z\"/>\n",
              "  </svg>\n",
              "      </button>\n",
              "      \n",
              "  <style>\n",
              "    .colab-df-container {\n",
              "      display:flex;\n",
              "      flex-wrap:wrap;\n",
              "      gap: 12px;\n",
              "    }\n",
              "\n",
              "    .colab-df-convert {\n",
              "      background-color: #E8F0FE;\n",
              "      border: none;\n",
              "      border-radius: 50%;\n",
              "      cursor: pointer;\n",
              "      display: none;\n",
              "      fill: #1967D2;\n",
              "      height: 32px;\n",
              "      padding: 0 0 0 0;\n",
              "      width: 32px;\n",
              "    }\n",
              "\n",
              "    .colab-df-convert:hover {\n",
              "      background-color: #E2EBFA;\n",
              "      box-shadow: 0px 1px 2px rgba(60, 64, 67, 0.3), 0px 1px 3px 1px rgba(60, 64, 67, 0.15);\n",
              "      fill: #174EA6;\n",
              "    }\n",
              "\n",
              "    [theme=dark] .colab-df-convert {\n",
              "      background-color: #3B4455;\n",
              "      fill: #D2E3FC;\n",
              "    }\n",
              "\n",
              "    [theme=dark] .colab-df-convert:hover {\n",
              "      background-color: #434B5C;\n",
              "      box-shadow: 0px 1px 3px 1px rgba(0, 0, 0, 0.15);\n",
              "      filter: drop-shadow(0px 1px 2px rgba(0, 0, 0, 0.3));\n",
              "      fill: #FFFFFF;\n",
              "    }\n",
              "  </style>\n",
              "\n",
              "      <script>\n",
              "        const buttonEl =\n",
              "          document.querySelector('#df-21216bb5-8081-4790-bc77-2c463f5dc8a1 button.colab-df-convert');\n",
              "        buttonEl.style.display =\n",
              "          google.colab.kernel.accessAllowed ? 'block' : 'none';\n",
              "\n",
              "        async function convertToInteractive(key) {\n",
              "          const element = document.querySelector('#df-21216bb5-8081-4790-bc77-2c463f5dc8a1');\n",
              "          const dataTable =\n",
              "            await google.colab.kernel.invokeFunction('convertToInteractive',\n",
              "                                                     [key], {});\n",
              "          if (!dataTable) return;\n",
              "\n",
              "          const docLinkHtml = 'Like what you see? Visit the ' +\n",
              "            '<a target=\"_blank\" href=https://colab.research.google.com/notebooks/data_table.ipynb>data table notebook</a>'\n",
              "            + ' to learn more about interactive tables.';\n",
              "          element.innerHTML = '';\n",
              "          dataTable['output_type'] = 'display_data';\n",
              "          await google.colab.output.renderOutput(dataTable, element);\n",
              "          const docLink = document.createElement('div');\n",
              "          docLink.innerHTML = docLinkHtml;\n",
              "          element.appendChild(docLink);\n",
              "        }\n",
              "      </script>\n",
              "    </div>\n",
              "  </div>\n",
              "  "
            ]
          },
          "metadata": {},
          "execution_count": 39
        }
      ]
    },
    {
      "cell_type": "markdown",
      "source": [
        "**2) Lasso Regression**"
      ],
      "metadata": {
        "id": "wsrxePYQCAVe"
      }
    },
    {
      "cell_type": "code",
      "source": [
        "y_pred_LA = LA.predict(X_test)\n",
        "y_pred_LA"
      ],
      "metadata": {
        "colab": {
          "base_uri": "https://localhost:8080/"
        },
        "id": "xtKOrSh8B6_Y",
        "outputId": "8b7de432-117b-4d5d-df42-9c8194eb0f81"
      },
      "execution_count": 40,
      "outputs": [
        {
          "output_type": "execute_result",
          "data": {
            "text/plain": [
              "array([ 2.78921933,  3.58533942,  3.66316045,  3.36890729, 14.04202289,\n",
              "       11.67494319,  4.91824956,  8.36405536,  1.13679256,  5.88305963,\n",
              "        2.12620115,  4.4987852 ,  5.45080565,  6.02613174,  1.69299113,\n",
              "        3.7490654 , 14.98764013,  1.39286716,  0.03465795, 11.15162343,\n",
              "        2.06917214,  5.4145275 ,  2.96720184,  4.83135316,  3.56659758,\n",
              "        1.03333189,  4.53906802,  8.25011995,  2.11930871,  4.11096298,\n",
              "       15.05935543,  5.12407436,  1.50964378,  1.60753134,  7.78894863,\n",
              "        7.99998072,  4.2916572 ,  1.45612219,  6.8449754 , -0.65599958,\n",
              "        8.31067639,  3.66816558,  9.6439111 ,  6.95400352,  7.98619195,\n",
              "        0.55037535,  1.76025369,  8.62192381,  4.82918857,  4.95556127,\n",
              "        1.60045007,  5.85535933,  6.21455466,  3.86551133,  9.66194333,\n",
              "        3.589944  ,  9.73499642,  1.84321765,  2.54260228, 13.344574  ,\n",
              "        2.34042797, 15.16409163,  2.28071259,  3.26588474,  2.47196603,\n",
              "        2.91980815,  3.44149831,  3.19736618,  4.13438095,  5.50882783,\n",
              "        9.56742071,  2.31393391,  1.48970898,  5.61947533,  3.87692588,\n",
              "        0.23788169,  2.09992793,  0.22191408, -1.7882159 ,  2.32763136,\n",
              "        3.83350106,  2.62381758,  2.73535972,  1.73285878,  0.95908669,\n",
              "        4.8631744 , -0.50076178,  9.60292832,  8.73527805,  4.54439407])"
            ]
          },
          "metadata": {},
          "execution_count": 40
        }
      ]
    },
    {
      "cell_type": "code",
      "source": [
        "df = pd.DataFrame({\"Actual\":y_test,\"Predicted\":y_pred_LA})\n",
        "df"
      ],
      "metadata": {
        "colab": {
          "base_uri": "https://localhost:8080/",
          "height": 424
        },
        "id": "vkVB6vipCFm7",
        "outputId": "4c9c6790-aaa9-477e-fc6c-06dbc33ba40a"
      },
      "execution_count": 41,
      "outputs": [
        {
          "output_type": "execute_result",
          "data": {
            "text/plain": [
              "     Actual  Predicted\n",
              "73     2.65   2.789219\n",
              "20     2.85   3.585339\n",
              "284    3.50   3.663160\n",
              "213    2.90   3.368907\n",
              "96    20.75  14.042023\n",
              "..      ...        ...\n",
              "21     4.90   4.863174\n",
              "184    0.25  -0.500762\n",
              "67     9.25   9.602928\n",
              "91    11.25   8.735278\n",
              "293    3.25   4.544394\n",
              "\n",
              "[90 rows x 2 columns]"
            ],
            "text/html": [
              "\n",
              "  <div id=\"df-aebd180c-f1f3-4685-8dea-a17083ac6fd2\">\n",
              "    <div class=\"colab-df-container\">\n",
              "      <div>\n",
              "<style scoped>\n",
              "    .dataframe tbody tr th:only-of-type {\n",
              "        vertical-align: middle;\n",
              "    }\n",
              "\n",
              "    .dataframe tbody tr th {\n",
              "        vertical-align: top;\n",
              "    }\n",
              "\n",
              "    .dataframe thead th {\n",
              "        text-align: right;\n",
              "    }\n",
              "</style>\n",
              "<table border=\"1\" class=\"dataframe\">\n",
              "  <thead>\n",
              "    <tr style=\"text-align: right;\">\n",
              "      <th></th>\n",
              "      <th>Actual</th>\n",
              "      <th>Predicted</th>\n",
              "    </tr>\n",
              "  </thead>\n",
              "  <tbody>\n",
              "    <tr>\n",
              "      <th>73</th>\n",
              "      <td>2.65</td>\n",
              "      <td>2.789219</td>\n",
              "    </tr>\n",
              "    <tr>\n",
              "      <th>20</th>\n",
              "      <td>2.85</td>\n",
              "      <td>3.585339</td>\n",
              "    </tr>\n",
              "    <tr>\n",
              "      <th>284</th>\n",
              "      <td>3.50</td>\n",
              "      <td>3.663160</td>\n",
              "    </tr>\n",
              "    <tr>\n",
              "      <th>213</th>\n",
              "      <td>2.90</td>\n",
              "      <td>3.368907</td>\n",
              "    </tr>\n",
              "    <tr>\n",
              "      <th>96</th>\n",
              "      <td>20.75</td>\n",
              "      <td>14.042023</td>\n",
              "    </tr>\n",
              "    <tr>\n",
              "      <th>...</th>\n",
              "      <td>...</td>\n",
              "      <td>...</td>\n",
              "    </tr>\n",
              "    <tr>\n",
              "      <th>21</th>\n",
              "      <td>4.90</td>\n",
              "      <td>4.863174</td>\n",
              "    </tr>\n",
              "    <tr>\n",
              "      <th>184</th>\n",
              "      <td>0.25</td>\n",
              "      <td>-0.500762</td>\n",
              "    </tr>\n",
              "    <tr>\n",
              "      <th>67</th>\n",
              "      <td>9.25</td>\n",
              "      <td>9.602928</td>\n",
              "    </tr>\n",
              "    <tr>\n",
              "      <th>91</th>\n",
              "      <td>11.25</td>\n",
              "      <td>8.735278</td>\n",
              "    </tr>\n",
              "    <tr>\n",
              "      <th>293</th>\n",
              "      <td>3.25</td>\n",
              "      <td>4.544394</td>\n",
              "    </tr>\n",
              "  </tbody>\n",
              "</table>\n",
              "<p>90 rows × 2 columns</p>\n",
              "</div>\n",
              "      <button class=\"colab-df-convert\" onclick=\"convertToInteractive('df-aebd180c-f1f3-4685-8dea-a17083ac6fd2')\"\n",
              "              title=\"Convert this dataframe to an interactive table.\"\n",
              "              style=\"display:none;\">\n",
              "        \n",
              "  <svg xmlns=\"http://www.w3.org/2000/svg\" height=\"24px\"viewBox=\"0 0 24 24\"\n",
              "       width=\"24px\">\n",
              "    <path d=\"M0 0h24v24H0V0z\" fill=\"none\"/>\n",
              "    <path d=\"M18.56 5.44l.94 2.06.94-2.06 2.06-.94-2.06-.94-.94-2.06-.94 2.06-2.06.94zm-11 1L8.5 8.5l.94-2.06 2.06-.94-2.06-.94L8.5 2.5l-.94 2.06-2.06.94zm10 10l.94 2.06.94-2.06 2.06-.94-2.06-.94-.94-2.06-.94 2.06-2.06.94z\"/><path d=\"M17.41 7.96l-1.37-1.37c-.4-.4-.92-.59-1.43-.59-.52 0-1.04.2-1.43.59L10.3 9.45l-7.72 7.72c-.78.78-.78 2.05 0 2.83L4 21.41c.39.39.9.59 1.41.59.51 0 1.02-.2 1.41-.59l7.78-7.78 2.81-2.81c.8-.78.8-2.07 0-2.86zM5.41 20L4 18.59l7.72-7.72 1.47 1.35L5.41 20z\"/>\n",
              "  </svg>\n",
              "      </button>\n",
              "      \n",
              "  <style>\n",
              "    .colab-df-container {\n",
              "      display:flex;\n",
              "      flex-wrap:wrap;\n",
              "      gap: 12px;\n",
              "    }\n",
              "\n",
              "    .colab-df-convert {\n",
              "      background-color: #E8F0FE;\n",
              "      border: none;\n",
              "      border-radius: 50%;\n",
              "      cursor: pointer;\n",
              "      display: none;\n",
              "      fill: #1967D2;\n",
              "      height: 32px;\n",
              "      padding: 0 0 0 0;\n",
              "      width: 32px;\n",
              "    }\n",
              "\n",
              "    .colab-df-convert:hover {\n",
              "      background-color: #E2EBFA;\n",
              "      box-shadow: 0px 1px 2px rgba(60, 64, 67, 0.3), 0px 1px 3px 1px rgba(60, 64, 67, 0.15);\n",
              "      fill: #174EA6;\n",
              "    }\n",
              "\n",
              "    [theme=dark] .colab-df-convert {\n",
              "      background-color: #3B4455;\n",
              "      fill: #D2E3FC;\n",
              "    }\n",
              "\n",
              "    [theme=dark] .colab-df-convert:hover {\n",
              "      background-color: #434B5C;\n",
              "      box-shadow: 0px 1px 3px 1px rgba(0, 0, 0, 0.15);\n",
              "      filter: drop-shadow(0px 1px 2px rgba(0, 0, 0, 0.3));\n",
              "      fill: #FFFFFF;\n",
              "    }\n",
              "  </style>\n",
              "\n",
              "      <script>\n",
              "        const buttonEl =\n",
              "          document.querySelector('#df-aebd180c-f1f3-4685-8dea-a17083ac6fd2 button.colab-df-convert');\n",
              "        buttonEl.style.display =\n",
              "          google.colab.kernel.accessAllowed ? 'block' : 'none';\n",
              "\n",
              "        async function convertToInteractive(key) {\n",
              "          const element = document.querySelector('#df-aebd180c-f1f3-4685-8dea-a17083ac6fd2');\n",
              "          const dataTable =\n",
              "            await google.colab.kernel.invokeFunction('convertToInteractive',\n",
              "                                                     [key], {});\n",
              "          if (!dataTable) return;\n",
              "\n",
              "          const docLinkHtml = 'Like what you see? Visit the ' +\n",
              "            '<a target=\"_blank\" href=https://colab.research.google.com/notebooks/data_table.ipynb>data table notebook</a>'\n",
              "            + ' to learn more about interactive tables.';\n",
              "          element.innerHTML = '';\n",
              "          dataTable['output_type'] = 'display_data';\n",
              "          await google.colab.output.renderOutput(dataTable, element);\n",
              "          const docLink = document.createElement('div');\n",
              "          docLink.innerHTML = docLinkHtml;\n",
              "          element.appendChild(docLink);\n",
              "        }\n",
              "      </script>\n",
              "    </div>\n",
              "  </div>\n",
              "  "
            ]
          },
          "metadata": {},
          "execution_count": 41
        }
      ]
    },
    {
      "cell_type": "markdown",
      "source": [
        "**3) Ridge Regression** "
      ],
      "metadata": {
        "id": "nQsAsVVnCMEA"
      }
    },
    {
      "cell_type": "code",
      "source": [
        "y_pred_RI = RI.predict(X_test)\n",
        "y_pred_RI"
      ],
      "metadata": {
        "colab": {
          "base_uri": "https://localhost:8080/"
        },
        "id": "KPse6b0LCI_2",
        "outputId": "978dbfad-24c9-4e0b-e6b8-e229e189dc11"
      },
      "execution_count": 42,
      "outputs": [
        {
          "output_type": "execute_result",
          "data": {
            "text/plain": [
              "array([ 2.51475336,  3.85716995,  3.54927822,  3.02690403, 16.09696202,\n",
              "       14.1604918 ,  6.25115154,  8.04318156,  0.29010101,  5.73432442,\n",
              "        1.53873288,  6.10859612,  5.49689761,  6.12930893,  1.03596088,\n",
              "        6.81384337, 16.37959533,  0.50642925,  0.30492127, 10.60995266,\n",
              "        1.48660319,  5.06111947,  2.40803078,  5.07729371,  3.44808506,\n",
              "        0.50056873,  3.76984817,  9.66365664,  1.52865575,  4.18786862,\n",
              "       16.44938692,  6.65309059,  0.73976528,  1.35289755,  9.11826963,\n",
              "        7.59228669,  4.34446118,  0.69745112,  8.43146808, -1.93575106,\n",
              "        7.99123444,  3.41472119, 10.11080667,  7.9171712 ,  7.57886779,\n",
              "       -0.48160479,  1.08745952,  9.5045612 ,  6.15031816,  6.27330102,\n",
              "        0.9319425 ,  5.8520901 ,  6.02804536,  4.10672086,  8.77533117,\n",
              "        5.0699521 ,  8.84642467,  1.16290301,  2.03669969, 13.89127981,\n",
              "        2.1314322 , 15.60119986,  1.42227805,  2.79588167,  1.97325323,\n",
              "        2.8744838 ,  3.33500608,  4.7268956 ,  3.4241532 ,  7.13951335,\n",
              "        8.99205292,  3.19964251,  0.59922927,  7.23227045,  4.11782922,\n",
              "       -0.77786978,  1.90556661, -0.89784158, -3.59417693,  3.21297255,\n",
              "        4.21210893,  2.75185466,  2.19696097,  1.06079946,  0.13242129,\n",
              "        5.11259369, -1.48011897, 10.07092322,  9.82276792,  3.92456796])"
            ]
          },
          "metadata": {},
          "execution_count": 42
        }
      ]
    },
    {
      "cell_type": "code",
      "source": [
        "df = pd.DataFrame({\"Actual\":y_test,\"Predicted\":y_pred_RI})\n",
        "df"
      ],
      "metadata": {
        "colab": {
          "base_uri": "https://localhost:8080/",
          "height": 424
        },
        "id": "_JS8K-XRCUm5",
        "outputId": "ff02d4e6-23e1-47b3-d58a-f98a9ba0b100"
      },
      "execution_count": 43,
      "outputs": [
        {
          "output_type": "execute_result",
          "data": {
            "text/plain": [
              "     Actual  Predicted\n",
              "73     2.65   2.514753\n",
              "20     2.85   3.857170\n",
              "284    3.50   3.549278\n",
              "213    2.90   3.026904\n",
              "96    20.75  16.096962\n",
              "..      ...        ...\n",
              "21     4.90   5.112594\n",
              "184    0.25  -1.480119\n",
              "67     9.25  10.070923\n",
              "91    11.25   9.822768\n",
              "293    3.25   3.924568\n",
              "\n",
              "[90 rows x 2 columns]"
            ],
            "text/html": [
              "\n",
              "  <div id=\"df-f5188e4d-2eef-44c3-81be-9d60d9e8d4b0\">\n",
              "    <div class=\"colab-df-container\">\n",
              "      <div>\n",
              "<style scoped>\n",
              "    .dataframe tbody tr th:only-of-type {\n",
              "        vertical-align: middle;\n",
              "    }\n",
              "\n",
              "    .dataframe tbody tr th {\n",
              "        vertical-align: top;\n",
              "    }\n",
              "\n",
              "    .dataframe thead th {\n",
              "        text-align: right;\n",
              "    }\n",
              "</style>\n",
              "<table border=\"1\" class=\"dataframe\">\n",
              "  <thead>\n",
              "    <tr style=\"text-align: right;\">\n",
              "      <th></th>\n",
              "      <th>Actual</th>\n",
              "      <th>Predicted</th>\n",
              "    </tr>\n",
              "  </thead>\n",
              "  <tbody>\n",
              "    <tr>\n",
              "      <th>73</th>\n",
              "      <td>2.65</td>\n",
              "      <td>2.514753</td>\n",
              "    </tr>\n",
              "    <tr>\n",
              "      <th>20</th>\n",
              "      <td>2.85</td>\n",
              "      <td>3.857170</td>\n",
              "    </tr>\n",
              "    <tr>\n",
              "      <th>284</th>\n",
              "      <td>3.50</td>\n",
              "      <td>3.549278</td>\n",
              "    </tr>\n",
              "    <tr>\n",
              "      <th>213</th>\n",
              "      <td>2.90</td>\n",
              "      <td>3.026904</td>\n",
              "    </tr>\n",
              "    <tr>\n",
              "      <th>96</th>\n",
              "      <td>20.75</td>\n",
              "      <td>16.096962</td>\n",
              "    </tr>\n",
              "    <tr>\n",
              "      <th>...</th>\n",
              "      <td>...</td>\n",
              "      <td>...</td>\n",
              "    </tr>\n",
              "    <tr>\n",
              "      <th>21</th>\n",
              "      <td>4.90</td>\n",
              "      <td>5.112594</td>\n",
              "    </tr>\n",
              "    <tr>\n",
              "      <th>184</th>\n",
              "      <td>0.25</td>\n",
              "      <td>-1.480119</td>\n",
              "    </tr>\n",
              "    <tr>\n",
              "      <th>67</th>\n",
              "      <td>9.25</td>\n",
              "      <td>10.070923</td>\n",
              "    </tr>\n",
              "    <tr>\n",
              "      <th>91</th>\n",
              "      <td>11.25</td>\n",
              "      <td>9.822768</td>\n",
              "    </tr>\n",
              "    <tr>\n",
              "      <th>293</th>\n",
              "      <td>3.25</td>\n",
              "      <td>3.924568</td>\n",
              "    </tr>\n",
              "  </tbody>\n",
              "</table>\n",
              "<p>90 rows × 2 columns</p>\n",
              "</div>\n",
              "      <button class=\"colab-df-convert\" onclick=\"convertToInteractive('df-f5188e4d-2eef-44c3-81be-9d60d9e8d4b0')\"\n",
              "              title=\"Convert this dataframe to an interactive table.\"\n",
              "              style=\"display:none;\">\n",
              "        \n",
              "  <svg xmlns=\"http://www.w3.org/2000/svg\" height=\"24px\"viewBox=\"0 0 24 24\"\n",
              "       width=\"24px\">\n",
              "    <path d=\"M0 0h24v24H0V0z\" fill=\"none\"/>\n",
              "    <path d=\"M18.56 5.44l.94 2.06.94-2.06 2.06-.94-2.06-.94-.94-2.06-.94 2.06-2.06.94zm-11 1L8.5 8.5l.94-2.06 2.06-.94-2.06-.94L8.5 2.5l-.94 2.06-2.06.94zm10 10l.94 2.06.94-2.06 2.06-.94-2.06-.94-.94-2.06-.94 2.06-2.06.94z\"/><path d=\"M17.41 7.96l-1.37-1.37c-.4-.4-.92-.59-1.43-.59-.52 0-1.04.2-1.43.59L10.3 9.45l-7.72 7.72c-.78.78-.78 2.05 0 2.83L4 21.41c.39.39.9.59 1.41.59.51 0 1.02-.2 1.41-.59l7.78-7.78 2.81-2.81c.8-.78.8-2.07 0-2.86zM5.41 20L4 18.59l7.72-7.72 1.47 1.35L5.41 20z\"/>\n",
              "  </svg>\n",
              "      </button>\n",
              "      \n",
              "  <style>\n",
              "    .colab-df-container {\n",
              "      display:flex;\n",
              "      flex-wrap:wrap;\n",
              "      gap: 12px;\n",
              "    }\n",
              "\n",
              "    .colab-df-convert {\n",
              "      background-color: #E8F0FE;\n",
              "      border: none;\n",
              "      border-radius: 50%;\n",
              "      cursor: pointer;\n",
              "      display: none;\n",
              "      fill: #1967D2;\n",
              "      height: 32px;\n",
              "      padding: 0 0 0 0;\n",
              "      width: 32px;\n",
              "    }\n",
              "\n",
              "    .colab-df-convert:hover {\n",
              "      background-color: #E2EBFA;\n",
              "      box-shadow: 0px 1px 2px rgba(60, 64, 67, 0.3), 0px 1px 3px 1px rgba(60, 64, 67, 0.15);\n",
              "      fill: #174EA6;\n",
              "    }\n",
              "\n",
              "    [theme=dark] .colab-df-convert {\n",
              "      background-color: #3B4455;\n",
              "      fill: #D2E3FC;\n",
              "    }\n",
              "\n",
              "    [theme=dark] .colab-df-convert:hover {\n",
              "      background-color: #434B5C;\n",
              "      box-shadow: 0px 1px 3px 1px rgba(0, 0, 0, 0.15);\n",
              "      filter: drop-shadow(0px 1px 2px rgba(0, 0, 0, 0.3));\n",
              "      fill: #FFFFFF;\n",
              "    }\n",
              "  </style>\n",
              "\n",
              "      <script>\n",
              "        const buttonEl =\n",
              "          document.querySelector('#df-f5188e4d-2eef-44c3-81be-9d60d9e8d4b0 button.colab-df-convert');\n",
              "        buttonEl.style.display =\n",
              "          google.colab.kernel.accessAllowed ? 'block' : 'none';\n",
              "\n",
              "        async function convertToInteractive(key) {\n",
              "          const element = document.querySelector('#df-f5188e4d-2eef-44c3-81be-9d60d9e8d4b0');\n",
              "          const dataTable =\n",
              "            await google.colab.kernel.invokeFunction('convertToInteractive',\n",
              "                                                     [key], {});\n",
              "          if (!dataTable) return;\n",
              "\n",
              "          const docLinkHtml = 'Like what you see? Visit the ' +\n",
              "            '<a target=\"_blank\" href=https://colab.research.google.com/notebooks/data_table.ipynb>data table notebook</a>'\n",
              "            + ' to learn more about interactive tables.';\n",
              "          element.innerHTML = '';\n",
              "          dataTable['output_type'] = 'display_data';\n",
              "          await google.colab.output.renderOutput(dataTable, element);\n",
              "          const docLink = document.createElement('div');\n",
              "          docLink.innerHTML = docLinkHtml;\n",
              "          element.appendChild(docLink);\n",
              "        }\n",
              "      </script>\n",
              "    </div>\n",
              "  </div>\n",
              "  "
            ]
          },
          "metadata": {},
          "execution_count": 43
        }
      ]
    },
    {
      "cell_type": "markdown",
      "source": [
        "# **10) Evaluation Matrics :**"
      ],
      "metadata": {
        "id": "2vxuNUdmCaZg"
      }
    },
    {
      "cell_type": "markdown",
      "source": [
        "**1) Linear Regression**"
      ],
      "metadata": {
        "id": "R5Myp9XOCg-4"
      }
    },
    {
      "cell_type": "code",
      "source": [
        "from sklearn import metrics\n",
        "print(\"R2-Score: \",metrics.r2_score(y_test,y_pred_LR))"
      ],
      "metadata": {
        "colab": {
          "base_uri": "https://localhost:8080/"
        },
        "id": "Be_VGS43CWr3",
        "outputId": "1344b164-e844-40f1-8025-fd7a23077ff9"
      },
      "execution_count": 44,
      "outputs": [
        {
          "output_type": "stream",
          "name": "stdout",
          "text": [
            "R2-Score:  0.8557256031100906\n"
          ]
        }
      ]
    },
    {
      "cell_type": "markdown",
      "source": [
        "**2) Lasso Regression**"
      ],
      "metadata": {
        "id": "Qa-kyqAZDC0X"
      }
    },
    {
      "cell_type": "code",
      "source": [
        "from sklearn import metrics\n",
        "print(\"R2-Score: \",metrics.r2_score(y_test,y_pred_LA))"
      ],
      "metadata": {
        "colab": {
          "base_uri": "https://localhost:8080/"
        },
        "id": "ITIz8yftCtS_",
        "outputId": "0204bc4d-f3c8-48fc-b15a-3ad2d7535d2c"
      },
      "execution_count": 45,
      "outputs": [
        {
          "output_type": "stream",
          "name": "stdout",
          "text": [
            "R2-Score:  0.8334601864076007\n"
          ]
        }
      ]
    },
    {
      "cell_type": "markdown",
      "source": [
        "**3) Ridge Regression**"
      ],
      "metadata": {
        "id": "BDJQ09_sDJaQ"
      }
    },
    {
      "cell_type": "code",
      "source": [
        "from sklearn import metrics\n",
        "print(\"R2-Score: \",metrics.r2_score(y_test,y_pred_RI))"
      ],
      "metadata": {
        "colab": {
          "base_uri": "https://localhost:8080/"
        },
        "id": "19gQm5YmDHvz",
        "outputId": "01bd199f-c882-44c9-d134-042cf9e09804"
      },
      "execution_count": 46,
      "outputs": [
        {
          "output_type": "stream",
          "name": "stdout",
          "text": [
            "R2-Score:  0.8572585398724362\n"
          ]
        }
      ]
    },
    {
      "cell_type": "code",
      "source": [],
      "metadata": {
        "id": "Jq9E3lzHDOxv"
      },
      "execution_count": 46,
      "outputs": []
    }
  ]
}